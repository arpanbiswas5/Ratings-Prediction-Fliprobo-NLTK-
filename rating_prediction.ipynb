{
 "cells": [
  {
   "cell_type": "code",
   "execution_count": 1,
   "id": "294be5d2",
   "metadata": {},
   "outputs": [
    {
     "name": "stdout",
     "output_type": "stream",
     "text": [
      "Requirement already satisfied: nltk in c:\\users\\offic\\anaconda3\\lib\\site-packages (3.6.1)\n",
      "Requirement already satisfied: tqdm in c:\\users\\offic\\anaconda3\\lib\\site-packages (from nltk) (4.59.0)\n",
      "Requirement already satisfied: regex in c:\\users\\offic\\anaconda3\\lib\\site-packages (from nltk) (2021.4.4)\n",
      "Requirement already satisfied: click in c:\\users\\offic\\anaconda3\\lib\\site-packages (from nltk) (7.1.2)\n",
      "Requirement already satisfied: joblib in c:\\users\\offic\\anaconda3\\lib\\site-packages (from nltk) (1.0.1)\n"
     ]
    }
   ],
   "source": [
    "#!pip install nltk"
   ]
  },
  {
   "cell_type": "code",
   "execution_count": 24,
   "id": "c559cba6",
   "metadata": {},
   "outputs": [
    {
     "name": "stderr",
     "output_type": "stream",
     "text": [
      "ERROR: Could not find a version that satisfies the requirement genism\n",
      "ERROR: No matching distribution found for genism\n"
     ]
    }
   ],
   "source": [
    "#!pip install genism"
   ]
  },
  {
   "cell_type": "code",
   "execution_count": 3,
   "id": "663d1340",
   "metadata": {},
   "outputs": [
    {
     "name": "stdout",
     "output_type": "stream",
     "text": [
      "Collecting pattern\n",
      "  Downloading Pattern-3.6.0.tar.gz (22.2 MB)\n",
      "Requirement already satisfied: future in c:\\users\\offic\\anaconda3\\lib\\site-packages (from pattern) (0.18.2)\n",
      "Collecting backports.csv\n",
      "  Downloading backports.csv-1.0.7-py2.py3-none-any.whl (12 kB)\n",
      "Collecting mysqlclient\n",
      "  Downloading mysqlclient-2.1.0-cp38-cp38-win_amd64.whl (180 kB)\n",
      "Requirement already satisfied: beautifulsoup4 in c:\\users\\offic\\anaconda3\\lib\\site-packages (from pattern) (4.9.3)\n",
      "Requirement already satisfied: lxml in c:\\users\\offic\\anaconda3\\lib\\site-packages (from pattern) (4.6.3)\n",
      "Collecting feedparser\n",
      "  Downloading feedparser-6.0.8-py3-none-any.whl (81 kB)\n",
      "Collecting pdfminer.six\n",
      "  Downloading pdfminer.six-20211012-py3-none-any.whl (5.6 MB)\n",
      "Requirement already satisfied: numpy in c:\\users\\offic\\anaconda3\\lib\\site-packages (from pattern) (1.20.1)\n",
      "Requirement already satisfied: scipy in c:\\users\\offic\\anaconda3\\lib\\site-packages (from pattern) (1.6.2)\n",
      "Requirement already satisfied: nltk in c:\\users\\offic\\anaconda3\\lib\\site-packages (from pattern) (3.6.1)\n",
      "Collecting python-docx\n",
      "  Downloading python-docx-0.8.11.tar.gz (5.6 MB)\n",
      "Collecting cherrypy\n",
      "  Downloading CherryPy-18.6.1-py2.py3-none-any.whl (419 kB)\n",
      "Requirement already satisfied: requests in c:\\users\\offic\\anaconda3\\lib\\site-packages (from pattern) (2.25.1)\n",
      "Requirement already satisfied: soupsieve>1.2 in c:\\users\\offic\\anaconda3\\lib\\site-packages (from beautifulsoup4->pattern) (2.2.1)\n",
      "Requirement already satisfied: more-itertools in c:\\users\\offic\\anaconda3\\lib\\site-packages (from cherrypy->pattern) (8.7.0)\n",
      "Collecting jaraco.collections\n",
      "  Downloading jaraco.collections-3.5.0-py3-none-any.whl (10 kB)\n",
      "Collecting zc.lockfile\n",
      "  Downloading zc.lockfile-2.0-py2.py3-none-any.whl (9.7 kB)\n",
      "Requirement already satisfied: pywin32>=227 in c:\\users\\offic\\anaconda3\\lib\\site-packages (from cherrypy->pattern) (227)\n",
      "Collecting cheroot>=8.2.1\n",
      "  Downloading cheroot-8.6.0-py2.py3-none-any.whl (104 kB)\n",
      "Collecting portend>=2.1.1\n",
      "  Downloading portend-3.1.0-py3-none-any.whl (5.3 kB)\n",
      "Collecting jaraco.functools\n",
      "  Downloading jaraco.functools-3.5.0-py3-none-any.whl (7.0 kB)\n",
      "Requirement already satisfied: six>=1.11.0 in c:\\users\\offic\\anaconda3\\lib\\site-packages (from cheroot>=8.2.1->cherrypy->pattern) (1.15.0)\n",
      "Collecting tempora>=1.8\n",
      "  Downloading tempora-4.1.2-py3-none-any.whl (15 kB)\n",
      "Requirement already satisfied: pytz in c:\\users\\offic\\anaconda3\\lib\\site-packages (from tempora>=1.8->portend>=2.1.1->cherrypy->pattern) (2021.1)\n",
      "Collecting sgmllib3k\n",
      "  Downloading sgmllib3k-1.0.0.tar.gz (5.8 kB)\n",
      "Collecting jaraco.classes\n",
      "  Downloading jaraco.classes-3.2.1-py3-none-any.whl (5.6 kB)\n",
      "Collecting jaraco.text\n",
      "  Downloading jaraco.text-3.6.0-py3-none-any.whl (8.1 kB)\n",
      "Collecting importlib-resources\n",
      "  Downloading importlib_resources-5.4.0-py3-none-any.whl (28 kB)\n",
      "Requirement already satisfied: zipp>=3.1.0 in c:\\users\\offic\\anaconda3\\lib\\site-packages (from importlib-resources->jaraco.text->jaraco.collections->cherrypy->pattern) (3.4.1)\n",
      "Requirement already satisfied: joblib in c:\\users\\offic\\anaconda3\\lib\\site-packages (from nltk->pattern) (1.0.1)\n",
      "Requirement already satisfied: regex in c:\\users\\offic\\anaconda3\\lib\\site-packages (from nltk->pattern) (2021.4.4)\n",
      "Requirement already satisfied: click in c:\\users\\offic\\anaconda3\\lib\\site-packages (from nltk->pattern) (7.1.2)\n",
      "Requirement already satisfied: tqdm in c:\\users\\offic\\anaconda3\\lib\\site-packages (from nltk->pattern) (4.59.0)\n",
      "Requirement already satisfied: chardet in c:\\users\\offic\\anaconda3\\lib\\site-packages (from pdfminer.six->pattern) (4.0.0)\n",
      "Requirement already satisfied: cryptography in c:\\users\\offic\\anaconda3\\lib\\site-packages (from pdfminer.six->pattern) (3.4.7)\n",
      "Requirement already satisfied: cffi>=1.12 in c:\\users\\offic\\anaconda3\\lib\\site-packages (from cryptography->pdfminer.six->pattern) (1.14.5)\n",
      "Requirement already satisfied: pycparser in c:\\users\\offic\\anaconda3\\lib\\site-packages (from cffi>=1.12->cryptography->pdfminer.six->pattern) (2.20)\n",
      "Requirement already satisfied: idna<3,>=2.5 in c:\\users\\offic\\anaconda3\\lib\\site-packages (from requests->pattern) (2.10)\n",
      "Requirement already satisfied: urllib3<1.27,>=1.21.1 in c:\\users\\offic\\anaconda3\\lib\\site-packages (from requests->pattern) (1.26.4)\n",
      "Requirement already satisfied: certifi>=2017.4.17 in c:\\users\\offic\\anaconda3\\lib\\site-packages (from requests->pattern) (2020.12.5)\n",
      "Requirement already satisfied: setuptools in c:\\users\\offic\\anaconda3\\lib\\site-packages (from zc.lockfile->cherrypy->pattern) (52.0.0.post20210125)\n",
      "Building wheels for collected packages: pattern, python-docx, sgmllib3k\n",
      "  Building wheel for pattern (setup.py): started\n",
      "  Building wheel for pattern (setup.py): finished with status 'done'\n",
      "  Created wheel for pattern: filename=Pattern-3.6-py3-none-any.whl size=22332723 sha256=7c2d6a40c65a8a41c9bbe5478030eae8914f4af27113f603cbb55e507b56f872\n",
      "  Stored in directory: c:\\users\\offic\\appdata\\local\\pip\\cache\\wheels\\ec\\ce\\8f\\bccc2d04f3a25a5a1dd19165b2855ad3203975f25edd5838d6\n",
      "  Building wheel for python-docx (setup.py): started\n",
      "  Building wheel for python-docx (setup.py): finished with status 'done'\n",
      "  Created wheel for python-docx: filename=python_docx-0.8.11-py3-none-any.whl size=184600 sha256=90b14b7e61cf644717ca562e4f430024ac3104900d35cf70f7432518f8f02798\n",
      "  Stored in directory: c:\\users\\offic\\appdata\\local\\pip\\cache\\wheels\\32\\b8\\b2\\c4c2b95765e615fe139b0b17b5ea7c0e1b6519b0a9ec8fb34d\n",
      "  Building wheel for sgmllib3k (setup.py): started\n",
      "  Building wheel for sgmllib3k (setup.py): finished with status 'done'\n",
      "  Created wheel for sgmllib3k: filename=sgmllib3k-1.0.0-py3-none-any.whl size=6065 sha256=82c9f11c88ed221007ebe07ec578e4d51025dcf8a530e9e54cd63d5e920f29b9\n",
      "  Stored in directory: c:\\users\\offic\\appdata\\local\\pip\\cache\\wheels\\83\\63\\2f\\117884c3b19d46b64d3d61690333aa80c88dc14050e269c546\n",
      "Successfully built pattern python-docx sgmllib3k\n",
      "Installing collected packages: jaraco.functools, importlib-resources, tempora, jaraco.text, jaraco.classes, zc.lockfile, sgmllib3k, portend, jaraco.collections, cheroot, python-docx, pdfminer.six, mysqlclient, feedparser, cherrypy, backports.csv, pattern\n",
      "Successfully installed backports.csv-1.0.7 cheroot-8.6.0 cherrypy-18.6.1 feedparser-6.0.8 importlib-resources-5.4.0 jaraco.classes-3.2.1 jaraco.collections-3.5.0 jaraco.functools-3.5.0 jaraco.text-3.6.0 mysqlclient-2.1.0 pattern-3.6 pdfminer.six-20211012 portend-3.1.0 python-docx-0.8.11 sgmllib3k-1.0.0 tempora-4.1.2 zc.lockfile-2.0\n"
     ]
    }
   ],
   "source": [
    "#!pip install pattern"
   ]
  },
  {
   "cell_type": "code",
   "execution_count": 5,
   "id": "b07092fd",
   "metadata": {},
   "outputs": [],
   "source": [
    "# import useful libraries\n",
    "import pandas as pd\n",
    "import numpy as np\n",
    "import matplotlib.pyplot as plt\n",
    "import seaborn as sns\n",
    "import warnings\n",
    "warnings.filterwarnings('ignore')"
   ]
  },
  {
   "cell_type": "code",
   "execution_count": 6,
   "id": "1a68411f",
   "metadata": {},
   "outputs": [
    {
     "data": {
      "text/html": [
       "<div>\n",
       "<style scoped>\n",
       "    .dataframe tbody tr th:only-of-type {\n",
       "        vertical-align: middle;\n",
       "    }\n",
       "\n",
       "    .dataframe tbody tr th {\n",
       "        vertical-align: top;\n",
       "    }\n",
       "\n",
       "    .dataframe thead th {\n",
       "        text-align: right;\n",
       "    }\n",
       "</style>\n",
       "<table border=\"1\" class=\"dataframe\">\n",
       "  <thead>\n",
       "    <tr style=\"text-align: right;\">\n",
       "      <th></th>\n",
       "      <th>Unnamed: 0</th>\n",
       "      <th>Ratings</th>\n",
       "      <th>Review</th>\n",
       "    </tr>\n",
       "  </thead>\n",
       "  <tbody>\n",
       "    <tr>\n",
       "      <th>0</th>\n",
       "      <td>0</td>\n",
       "      <td>5.0</td>\n",
       "      <td>This is the best laptop in this range.I reciev...</td>\n",
       "    </tr>\n",
       "    <tr>\n",
       "      <th>1</th>\n",
       "      <td>1</td>\n",
       "      <td>5.0</td>\n",
       "      <td>Good product as used of now.... Everything is ...</td>\n",
       "    </tr>\n",
       "    <tr>\n",
       "      <th>2</th>\n",
       "      <td>2</td>\n",
       "      <td>5.0</td>\n",
       "      <td>AWESOME LAPTOP. It supports many high spec gam...</td>\n",
       "    </tr>\n",
       "    <tr>\n",
       "      <th>3</th>\n",
       "      <td>3</td>\n",
       "      <td>4.0</td>\n",
       "      <td>For that price... it's exceptionally good. Pla...</td>\n",
       "    </tr>\n",
       "    <tr>\n",
       "      <th>4</th>\n",
       "      <td>4</td>\n",
       "      <td>4.0</td>\n",
       "      <td>RAM upgrade is must do because the useable RAM...</td>\n",
       "    </tr>\n",
       "  </tbody>\n",
       "</table>\n",
       "</div>"
      ],
      "text/plain": [
       "   Unnamed: 0  Ratings                                             Review\n",
       "0           0      5.0  This is the best laptop in this range.I reciev...\n",
       "1           1      5.0  Good product as used of now.... Everything is ...\n",
       "2           2      5.0  AWESOME LAPTOP. It supports many high spec gam...\n",
       "3           3      4.0  For that price... it's exceptionally good. Pla...\n",
       "4           4      4.0  RAM upgrade is must do because the useable RAM..."
      ]
     },
     "execution_count": 6,
     "metadata": {},
     "output_type": "execute_result"
    }
   ],
   "source": [
    "# import dataset\n",
    "df = pd.read_csv(\"rating_prediction.csv\")\n",
    "df.head()"
   ]
  },
  {
   "cell_type": "code",
   "execution_count": 7,
   "id": "51b3900a",
   "metadata": {},
   "outputs": [
    {
     "data": {
      "text/plain": [
       "(23883, 3)"
      ]
     },
     "execution_count": 7,
     "metadata": {},
     "output_type": "execute_result"
    }
   ],
   "source": [
    "df.shape"
   ]
  },
  {
   "cell_type": "code",
   "execution_count": 8,
   "id": "2cfa804a",
   "metadata": {},
   "outputs": [
    {
     "data": {
      "text/plain": [
       "Unnamed: 0     0\n",
       "Ratings        0\n",
       "Review        56\n",
       "dtype: int64"
      ]
     },
     "execution_count": 8,
     "metadata": {},
     "output_type": "execute_result"
    }
   ],
   "source": [
    "df.isnull().sum()"
   ]
  },
  {
   "cell_type": "code",
   "execution_count": 9,
   "id": "32c3c3c2",
   "metadata": {},
   "outputs": [
    {
     "data": {
      "text/plain": [
       "5.0    8915\n",
       "1.0    6669\n",
       "4.0    3497\n",
       "3.0    2638\n",
       "2.0    2164\n",
       "Name: Ratings, dtype: int64"
      ]
     },
     "execution_count": 9,
     "metadata": {},
     "output_type": "execute_result"
    }
   ],
   "source": [
    "df['Ratings'].value_counts()"
   ]
  },
  {
   "cell_type": "code",
   "execution_count": 10,
   "id": "b45894a4",
   "metadata": {},
   "outputs": [],
   "source": [
    "df=df.dropna(how='any',axis=0)"
   ]
  },
  {
   "cell_type": "code",
   "execution_count": 11,
   "id": "40d94be5",
   "metadata": {},
   "outputs": [
    {
     "data": {
      "text/plain": [
       "Unnamed: 0    0\n",
       "Ratings       0\n",
       "Review        0\n",
       "dtype: int64"
      ]
     },
     "execution_count": 11,
     "metadata": {},
     "output_type": "execute_result"
    }
   ],
   "source": [
    "df.isnull().sum()"
   ]
  },
  {
   "cell_type": "code",
   "execution_count": 12,
   "id": "c5a4dfbd",
   "metadata": {},
   "outputs": [
    {
     "data": {
      "text/plain": [
       "(23827, 3)"
      ]
     },
     "execution_count": 12,
     "metadata": {},
     "output_type": "execute_result"
    }
   ],
   "source": [
    "df.shape"
   ]
  },
  {
   "cell_type": "code",
   "execution_count": 13,
   "id": "6d6cd0a7",
   "metadata": {},
   "outputs": [],
   "source": [
    "df.drop('Unnamed: 0',axis=1,inplace=True)"
   ]
  },
  {
   "cell_type": "code",
   "execution_count": 14,
   "id": "b4260c90",
   "metadata": {},
   "outputs": [
    {
     "name": "stdout",
     "output_type": "stream",
     "text": [
      "average rating given by users  3.2\n"
     ]
    }
   ],
   "source": [
    "avg=df['Ratings'].mean()\n",
    "avg=round(avg,1)\n",
    "print(\"average rating given by users \",avg)"
   ]
  },
  {
   "cell_type": "code",
   "execution_count": 18,
   "id": "149f8e27",
   "metadata": {},
   "outputs": [
    {
     "data": {
      "text/plain": [
       "Ratings    float64\n",
       "Review      object\n",
       "dtype: object"
      ]
     },
     "execution_count": 18,
     "metadata": {},
     "output_type": "execute_result"
    }
   ],
   "source": [
    "df.dtypes"
   ]
  },
  {
   "cell_type": "code",
   "execution_count": 19,
   "id": "639ad641",
   "metadata": {},
   "outputs": [],
   "source": [
    "df['Ratings']=df['Ratings'].astype('int')"
   ]
  },
  {
   "cell_type": "code",
   "execution_count": 20,
   "id": "1a02c977",
   "metadata": {},
   "outputs": [
    {
     "data": {
      "text/plain": [
       "<AxesSubplot:xlabel='Ratings', ylabel='count'>"
      ]
     },
     "execution_count": 20,
     "metadata": {},
     "output_type": "execute_result"
    },
    {
     "data": {
      "image/png": "[encoded data removed]",
      "text/plain": [
       "<Figure size 432x288 with 1 Axes>"
      ]
     },
     "metadata": {
      "needs_background": "light"
     },
     "output_type": "display_data"
    }
   ],
   "source": [
    "sns.countplot(data=df,x='Ratings')"
   ]
  },
  {
   "cell_type": "markdown",
   "id": "9a4cfbfc",
   "metadata": {},
   "source": [
    "here we can see that most of the users has rated the products as exteremities i.e, either the highes 5 start or the lowest 1 star. 2, 3 ,4 stars are quite low. we can see that our target variable is imabalanced hence we need to balance it with the help of SMOTE technique."
   ]
  },
  {
   "cell_type": "code",
   "execution_count": 21,
   "id": "230291a1",
   "metadata": {},
   "outputs": [],
   "source": [
    "df[\"review_length\"]=df[\"Review\"].str.len()"
   ]
  },
  {
   "cell_type": "code",
   "execution_count": 22,
   "id": "f872d93d",
   "metadata": {},
   "outputs": [
    {
     "data": {
      "text/plain": [
       "<AxesSubplot:xlabel='review_length', ylabel='Ratings'>"
      ]
     },
     "execution_count": 22,
     "metadata": {},
     "output_type": "execute_result"
    },
    {
     "data": {
      "image/png": "[encoded data removed]",
      "text/plain": [
       "<Figure size 432x288 with 1 Axes>"
      ]
     },
     "metadata": {
      "needs_background": "light"
     },
     "output_type": "display_data"
    }
   ],
   "source": [
    "sns.scatterplot(data=df,x=\"review_length\",y=\"Ratings\")"
   ]
  },
  {
   "cell_type": "code",
   "execution_count": 26,
   "id": "07c77ca9",
   "metadata": {},
   "outputs": [
    {
     "name": "stderr",
     "output_type": "stream",
     "text": [
      "[nltk_data] Downloading package stopwords to\n",
      "[nltk_data]     C:\\Users\\offic\\AppData\\Roaming\\nltk_data...\n",
      "[nltk_data]   Unzipping corpora\\stopwords.zip.\n"
     ]
    }
   ],
   "source": [
    "import nltk\n",
    "from nltk.corpus import stopwords\n",
    "nltk.download('stopwords')\n",
    "stopwords = stopwords.words('english')"
   ]
  },
  {
   "cell_type": "code",
   "execution_count": 27,
   "id": "5b05e1a2",
   "metadata": {},
   "outputs": [],
   "source": [
    "from nltk.stem import WordNetLemmatizer\n",
    "lemmatizer = WordNetLemmatizer()\n",
    "from nltk.corpus import stopwords\n",
    "stop = stopwords.words('english')\n",
    "from sklearn.feature_extraction.text import TfidfVectorizer\n",
    "from imblearn.over_sampling import SMOTE\n",
    "smote = SMOTE()"
   ]
  },
  {
   "cell_type": "code",
   "execution_count": 28,
   "id": "d624881c",
   "metadata": {},
   "outputs": [
    {
     "data": {
      "text/html": [
       "<div>\n",
       "<style scoped>\n",
       "    .dataframe tbody tr th:only-of-type {\n",
       "        vertical-align: middle;\n",
       "    }\n",
       "\n",
       "    .dataframe tbody tr th {\n",
       "        vertical-align: top;\n",
       "    }\n",
       "\n",
       "    .dataframe thead th {\n",
       "        text-align: right;\n",
       "    }\n",
       "</style>\n",
       "<table border=\"1\" class=\"dataframe\">\n",
       "  <thead>\n",
       "    <tr style=\"text-align: right;\">\n",
       "      <th></th>\n",
       "      <th>Ratings</th>\n",
       "      <th>Review</th>\n",
       "      <th>review_length</th>\n",
       "      <th>Cleaned_review</th>\n",
       "    </tr>\n",
       "  </thead>\n",
       "  <tbody>\n",
       "    <tr>\n",
       "      <th>0</th>\n",
       "      <td>5</td>\n",
       "      <td>This is the best laptop in this range.I reciev...</td>\n",
       "      <td>500</td>\n",
       "      <td>this is the best laptop in this range.i reciev...</td>\n",
       "    </tr>\n",
       "    <tr>\n",
       "      <th>1</th>\n",
       "      <td>5</td>\n",
       "      <td>Good product as used of now.... Everything is ...</td>\n",
       "      <td>271</td>\n",
       "      <td>good product as used of now.... everything is ...</td>\n",
       "    </tr>\n",
       "    <tr>\n",
       "      <th>2</th>\n",
       "      <td>5</td>\n",
       "      <td>AWESOME LAPTOP. It supports many high spec gam...</td>\n",
       "      <td>96</td>\n",
       "      <td>awesome laptop. it supports many high spec gam...</td>\n",
       "    </tr>\n",
       "    <tr>\n",
       "      <th>3</th>\n",
       "      <td>4</td>\n",
       "      <td>For that price... it's exceptionally good. Pla...</td>\n",
       "      <td>342</td>\n",
       "      <td>for that price... it's exceptionally good. pla...</td>\n",
       "    </tr>\n",
       "    <tr>\n",
       "      <th>4</th>\n",
       "      <td>4</td>\n",
       "      <td>RAM upgrade is must do because the useable RAM...</td>\n",
       "      <td>500</td>\n",
       "      <td>ram upgrade is must do because the useable ram...</td>\n",
       "    </tr>\n",
       "    <tr>\n",
       "      <th>...</th>\n",
       "      <td>...</td>\n",
       "      <td>...</td>\n",
       "      <td>...</td>\n",
       "      <td>...</td>\n",
       "    </tr>\n",
       "    <tr>\n",
       "      <th>23878</th>\n",
       "      <td>4</td>\n",
       "      <td>Volume is not large but quality is best better...</td>\n",
       "      <td>139</td>\n",
       "      <td>volume is not large but quality is best better...</td>\n",
       "    </tr>\n",
       "    <tr>\n",
       "      <th>23879</th>\n",
       "      <td>4</td>\n",
       "      <td>thank you</td>\n",
       "      <td>9</td>\n",
       "      <td>thank you</td>\n",
       "    </tr>\n",
       "    <tr>\n",
       "      <th>23880</th>\n",
       "      <td>4</td>\n",
       "      <td>Better at this price</td>\n",
       "      <td>20</td>\n",
       "      <td>better at this price</td>\n",
       "    </tr>\n",
       "    <tr>\n",
       "      <th>23881</th>\n",
       "      <td>4</td>\n",
       "      <td>Nice product</td>\n",
       "      <td>12</td>\n",
       "      <td>nice product</td>\n",
       "    </tr>\n",
       "    <tr>\n",
       "      <th>23882</th>\n",
       "      <td>4</td>\n",
       "      <td>Awosome device but sound is little low but awo...</td>\n",
       "      <td>50</td>\n",
       "      <td>awosome device but sound is little low but awo...</td>\n",
       "    </tr>\n",
       "  </tbody>\n",
       "</table>\n",
       "<p>23827 rows × 4 columns</p>\n",
       "</div>"
      ],
      "text/plain": [
       "       Ratings                                             Review  \\\n",
       "0            5  This is the best laptop in this range.I reciev...   \n",
       "1            5  Good product as used of now.... Everything is ...   \n",
       "2            5  AWESOME LAPTOP. It supports many high spec gam...   \n",
       "3            4  For that price... it's exceptionally good. Pla...   \n",
       "4            4  RAM upgrade is must do because the useable RAM...   \n",
       "...        ...                                                ...   \n",
       "23878        4  Volume is not large but quality is best better...   \n",
       "23879        4                                          thank you   \n",
       "23880        4                               Better at this price   \n",
       "23881        4                                       Nice product   \n",
       "23882        4  Awosome device but sound is little low but awo...   \n",
       "\n",
       "       review_length                                     Cleaned_review  \n",
       "0                500  this is the best laptop in this range.i reciev...  \n",
       "1                271  good product as used of now.... everything is ...  \n",
       "2                 96  awesome laptop. it supports many high spec gam...  \n",
       "3                342  for that price... it's exceptionally good. pla...  \n",
       "4                500  ram upgrade is must do because the useable ram...  \n",
       "...              ...                                                ...  \n",
       "23878            139  volume is not large but quality is best better...  \n",
       "23879              9                                          thank you  \n",
       "23880             20                               better at this price  \n",
       "23881             12                                       nice product  \n",
       "23882             50  awosome device but sound is little low but awo...  \n",
       "\n",
       "[23827 rows x 4 columns]"
      ]
     },
     "execution_count": 28,
     "metadata": {},
     "output_type": "execute_result"
    }
   ],
   "source": [
    "#converting reviews to lowercase\n",
    "df['Cleaned_review']=df['Review'].apply(lambda x:\" \".join(x.lower() for x in x.split()))\n",
    "df"
   ]
  },
  {
   "cell_type": "code",
   "execution_count": 29,
   "id": "a0012b59",
   "metadata": {},
   "outputs": [
    {
     "data": {
      "text/html": [
       "<div>\n",
       "<style scoped>\n",
       "    .dataframe tbody tr th:only-of-type {\n",
       "        vertical-align: middle;\n",
       "    }\n",
       "\n",
       "    .dataframe tbody tr th {\n",
       "        vertical-align: top;\n",
       "    }\n",
       "\n",
       "    .dataframe thead th {\n",
       "        text-align: right;\n",
       "    }\n",
       "</style>\n",
       "<table border=\"1\" class=\"dataframe\">\n",
       "  <thead>\n",
       "    <tr style=\"text-align: right;\">\n",
       "      <th></th>\n",
       "      <th>Ratings</th>\n",
       "      <th>Review</th>\n",
       "      <th>review_length</th>\n",
       "      <th>Cleaned_review</th>\n",
       "    </tr>\n",
       "  </thead>\n",
       "  <tbody>\n",
       "    <tr>\n",
       "      <th>0</th>\n",
       "      <td>5</td>\n",
       "      <td>This is the best laptop in this range.I reciev...</td>\n",
       "      <td>500</td>\n",
       "      <td>this is the best laptop in this rangei recieve...</td>\n",
       "    </tr>\n",
       "    <tr>\n",
       "      <th>1</th>\n",
       "      <td>5</td>\n",
       "      <td>Good product as used of now.... Everything is ...</td>\n",
       "      <td>271</td>\n",
       "      <td>good product as used of now everything is good...</td>\n",
       "    </tr>\n",
       "    <tr>\n",
       "      <th>2</th>\n",
       "      <td>5</td>\n",
       "      <td>AWESOME LAPTOP. It supports many high spec gam...</td>\n",
       "      <td>96</td>\n",
       "      <td>awesome laptop it supports many high spec game...</td>\n",
       "    </tr>\n",
       "    <tr>\n",
       "      <th>3</th>\n",
       "      <td>4</td>\n",
       "      <td>For that price... it's exceptionally good. Pla...</td>\n",
       "      <td>342</td>\n",
       "      <td>for that price its exceptionally good played f...</td>\n",
       "    </tr>\n",
       "    <tr>\n",
       "      <th>4</th>\n",
       "      <td>4</td>\n",
       "      <td>RAM upgrade is must do because the useable RAM...</td>\n",
       "      <td>500</td>\n",
       "      <td>ram upgrade is must do because the useable ram...</td>\n",
       "    </tr>\n",
       "    <tr>\n",
       "      <th>...</th>\n",
       "      <td>...</td>\n",
       "      <td>...</td>\n",
       "      <td>...</td>\n",
       "      <td>...</td>\n",
       "    </tr>\n",
       "    <tr>\n",
       "      <th>23878</th>\n",
       "      <td>4</td>\n",
       "      <td>Volume is not large but quality is best better...</td>\n",
       "      <td>139</td>\n",
       "      <td>volume is not large but quality is best better...</td>\n",
       "    </tr>\n",
       "    <tr>\n",
       "      <th>23879</th>\n",
       "      <td>4</td>\n",
       "      <td>thank you</td>\n",
       "      <td>9</td>\n",
       "      <td>thank you</td>\n",
       "    </tr>\n",
       "    <tr>\n",
       "      <th>23880</th>\n",
       "      <td>4</td>\n",
       "      <td>Better at this price</td>\n",
       "      <td>20</td>\n",
       "      <td>better at this price</td>\n",
       "    </tr>\n",
       "    <tr>\n",
       "      <th>23881</th>\n",
       "      <td>4</td>\n",
       "      <td>Nice product</td>\n",
       "      <td>12</td>\n",
       "      <td>nice product</td>\n",
       "    </tr>\n",
       "    <tr>\n",
       "      <th>23882</th>\n",
       "      <td>4</td>\n",
       "      <td>Awosome device but sound is little low but awo...</td>\n",
       "      <td>50</td>\n",
       "      <td>awosome device but sound is little low but awo...</td>\n",
       "    </tr>\n",
       "  </tbody>\n",
       "</table>\n",
       "<p>23827 rows × 4 columns</p>\n",
       "</div>"
      ],
      "text/plain": [
       "       Ratings                                             Review  \\\n",
       "0            5  This is the best laptop in this range.I reciev...   \n",
       "1            5  Good product as used of now.... Everything is ...   \n",
       "2            5  AWESOME LAPTOP. It supports many high spec gam...   \n",
       "3            4  For that price... it's exceptionally good. Pla...   \n",
       "4            4  RAM upgrade is must do because the useable RAM...   \n",
       "...        ...                                                ...   \n",
       "23878        4  Volume is not large but quality is best better...   \n",
       "23879        4                                          thank you   \n",
       "23880        4                               Better at this price   \n",
       "23881        4                                       Nice product   \n",
       "23882        4  Awosome device but sound is little low but awo...   \n",
       "\n",
       "       review_length                                     Cleaned_review  \n",
       "0                500  this is the best laptop in this rangei recieve...  \n",
       "1                271  good product as used of now everything is good...  \n",
       "2                 96  awesome laptop it supports many high spec game...  \n",
       "3                342  for that price its exceptionally good played f...  \n",
       "4                500  ram upgrade is must do because the useable ram...  \n",
       "...              ...                                                ...  \n",
       "23878            139  volume is not large but quality is best better...  \n",
       "23879              9                                          thank you  \n",
       "23880             20                               better at this price  \n",
       "23881             12                                       nice product  \n",
       "23882             50  awosome device but sound is little low but awo...  \n",
       "\n",
       "[23827 rows x 4 columns]"
      ]
     },
     "execution_count": 29,
     "metadata": {},
     "output_type": "execute_result"
    }
   ],
   "source": [
    "# remove punctuation from cleaned review column\n",
    "df['Cleaned_review'] = df['Cleaned_review'].str.replace('[^\\w\\s]','')\n",
    "df"
   ]
  },
  {
   "cell_type": "code",
   "execution_count": 30,
   "id": "bc66dde4",
   "metadata": {},
   "outputs": [
    {
     "data": {
      "text/html": [
       "<div>\n",
       "<style scoped>\n",
       "    .dataframe tbody tr th:only-of-type {\n",
       "        vertical-align: middle;\n",
       "    }\n",
       "\n",
       "    .dataframe tbody tr th {\n",
       "        vertical-align: top;\n",
       "    }\n",
       "\n",
       "    .dataframe thead th {\n",
       "        text-align: right;\n",
       "    }\n",
       "</style>\n",
       "<table border=\"1\" class=\"dataframe\">\n",
       "  <thead>\n",
       "    <tr style=\"text-align: right;\">\n",
       "      <th></th>\n",
       "      <th>Ratings</th>\n",
       "      <th>Review</th>\n",
       "      <th>review_length</th>\n",
       "      <th>Cleaned_review</th>\n",
       "    </tr>\n",
       "  </thead>\n",
       "  <tbody>\n",
       "    <tr>\n",
       "      <th>0</th>\n",
       "      <td>5</td>\n",
       "      <td>This is the best laptop in this range.I reciev...</td>\n",
       "      <td>500</td>\n",
       "      <td>best laptop rangei recieved late delivery due ...</td>\n",
       "    </tr>\n",
       "    <tr>\n",
       "      <th>1</th>\n",
       "      <td>5</td>\n",
       "      <td>Good product as used of now.... Everything is ...</td>\n",
       "      <td>271</td>\n",
       "      <td>good product used everything good also ssd slo...</td>\n",
       "    </tr>\n",
       "    <tr>\n",
       "      <th>2</th>\n",
       "      <td>5</td>\n",
       "      <td>AWESOME LAPTOP. It supports many high spec gam...</td>\n",
       "      <td>96</td>\n",
       "      <td>awesome laptop supports many high spec games l...</td>\n",
       "    </tr>\n",
       "    <tr>\n",
       "      <th>3</th>\n",
       "      <td>4</td>\n",
       "      <td>For that price... it's exceptionally good. Pla...</td>\n",
       "      <td>342</td>\n",
       "      <td>price exceptionally good played far cry 4 ultr...</td>\n",
       "    </tr>\n",
       "    <tr>\n",
       "      <th>4</th>\n",
       "      <td>4</td>\n",
       "      <td>RAM upgrade is must do because the useable RAM...</td>\n",
       "      <td>500</td>\n",
       "      <td>ram upgrade must useable ram 6gb ryzen 5 3550h...</td>\n",
       "    </tr>\n",
       "    <tr>\n",
       "      <th>...</th>\n",
       "      <td>...</td>\n",
       "      <td>...</td>\n",
       "      <td>...</td>\n",
       "      <td>...</td>\n",
       "    </tr>\n",
       "    <tr>\n",
       "      <th>23878</th>\n",
       "      <td>4</td>\n",
       "      <td>Volume is not large but quality is best better...</td>\n",
       "      <td>139</td>\n",
       "      <td>volume large quality best better small hall th...</td>\n",
       "    </tr>\n",
       "    <tr>\n",
       "      <th>23879</th>\n",
       "      <td>4</td>\n",
       "      <td>thank you</td>\n",
       "      <td>9</td>\n",
       "      <td>thank</td>\n",
       "    </tr>\n",
       "    <tr>\n",
       "      <th>23880</th>\n",
       "      <td>4</td>\n",
       "      <td>Better at this price</td>\n",
       "      <td>20</td>\n",
       "      <td>better price</td>\n",
       "    </tr>\n",
       "    <tr>\n",
       "      <th>23881</th>\n",
       "      <td>4</td>\n",
       "      <td>Nice product</td>\n",
       "      <td>12</td>\n",
       "      <td>nice product</td>\n",
       "    </tr>\n",
       "    <tr>\n",
       "      <th>23882</th>\n",
       "      <td>4</td>\n",
       "      <td>Awosome device but sound is little low but awo...</td>\n",
       "      <td>50</td>\n",
       "      <td>awosome device sound little low awosome</td>\n",
       "    </tr>\n",
       "  </tbody>\n",
       "</table>\n",
       "<p>23827 rows × 4 columns</p>\n",
       "</div>"
      ],
      "text/plain": [
       "       Ratings                                             Review  \\\n",
       "0            5  This is the best laptop in this range.I reciev...   \n",
       "1            5  Good product as used of now.... Everything is ...   \n",
       "2            5  AWESOME LAPTOP. It supports many high spec gam...   \n",
       "3            4  For that price... it's exceptionally good. Pla...   \n",
       "4            4  RAM upgrade is must do because the useable RAM...   \n",
       "...        ...                                                ...   \n",
       "23878        4  Volume is not large but quality is best better...   \n",
       "23879        4                                          thank you   \n",
       "23880        4                               Better at this price   \n",
       "23881        4                                       Nice product   \n",
       "23882        4  Awosome device but sound is little low but awo...   \n",
       "\n",
       "       review_length                                     Cleaned_review  \n",
       "0                500  best laptop rangei recieved late delivery due ...  \n",
       "1                271  good product used everything good also ssd slo...  \n",
       "2                 96  awesome laptop supports many high spec games l...  \n",
       "3                342  price exceptionally good played far cry 4 ultr...  \n",
       "4                500  ram upgrade must useable ram 6gb ryzen 5 3550h...  \n",
       "...              ...                                                ...  \n",
       "23878            139  volume large quality best better small hall th...  \n",
       "23879              9                                              thank  \n",
       "23880             20                                       better price  \n",
       "23881             12                                       nice product  \n",
       "23882             50            awosome device sound little low awosome  \n",
       "\n",
       "[23827 rows x 4 columns]"
      ]
     },
     "execution_count": 30,
     "metadata": {},
     "output_type": "execute_result"
    }
   ],
   "source": [
    "# remove stopwords from cleaned review column\n",
    "df['Cleaned_review'] = df['Cleaned_review'].apply(lambda x:\" \".join(x for x in x.split() if x not in stop))\n",
    "df"
   ]
  },
  {
   "cell_type": "code",
   "execution_count": 31,
   "id": "5d4677b5",
   "metadata": {},
   "outputs": [
    {
     "data": {
      "text/html": [
       "<div>\n",
       "<style scoped>\n",
       "    .dataframe tbody tr th:only-of-type {\n",
       "        vertical-align: middle;\n",
       "    }\n",
       "\n",
       "    .dataframe tbody tr th {\n",
       "        vertical-align: top;\n",
       "    }\n",
       "\n",
       "    .dataframe thead th {\n",
       "        text-align: right;\n",
       "    }\n",
       "</style>\n",
       "<table border=\"1\" class=\"dataframe\">\n",
       "  <thead>\n",
       "    <tr style=\"text-align: right;\">\n",
       "      <th></th>\n",
       "      <th>Ratings</th>\n",
       "      <th>Review</th>\n",
       "      <th>review_length</th>\n",
       "      <th>Cleaned_review</th>\n",
       "    </tr>\n",
       "  </thead>\n",
       "  <tbody>\n",
       "    <tr>\n",
       "      <th>0</th>\n",
       "      <td>5</td>\n",
       "      <td>This is the best laptop in this range.I reciev...</td>\n",
       "      <td>500</td>\n",
       "      <td>best laptop rangei recieved late delivery due ...</td>\n",
       "    </tr>\n",
       "    <tr>\n",
       "      <th>1</th>\n",
       "      <td>5</td>\n",
       "      <td>Good product as used of now.... Everything is ...</td>\n",
       "      <td>271</td>\n",
       "      <td>good product used everything good also ssd slo...</td>\n",
       "    </tr>\n",
       "    <tr>\n",
       "      <th>2</th>\n",
       "      <td>5</td>\n",
       "      <td>AWESOME LAPTOP. It supports many high spec gam...</td>\n",
       "      <td>96</td>\n",
       "      <td>awesome laptop supports many high spec games l...</td>\n",
       "    </tr>\n",
       "    <tr>\n",
       "      <th>3</th>\n",
       "      <td>4</td>\n",
       "      <td>For that price... it's exceptionally good. Pla...</td>\n",
       "      <td>342</td>\n",
       "      <td>price exceptionally good played far cry  ultra...</td>\n",
       "    </tr>\n",
       "    <tr>\n",
       "      <th>4</th>\n",
       "      <td>4</td>\n",
       "      <td>RAM upgrade is must do because the useable RAM...</td>\n",
       "      <td>500</td>\n",
       "      <td>ram upgrade must useable ram gb ryzen  h great...</td>\n",
       "    </tr>\n",
       "    <tr>\n",
       "      <th>...</th>\n",
       "      <td>...</td>\n",
       "      <td>...</td>\n",
       "      <td>...</td>\n",
       "      <td>...</td>\n",
       "    </tr>\n",
       "    <tr>\n",
       "      <th>23878</th>\n",
       "      <td>4</td>\n",
       "      <td>Volume is not large but quality is best better...</td>\n",
       "      <td>139</td>\n",
       "      <td>volume large quality best better small hall th...</td>\n",
       "    </tr>\n",
       "    <tr>\n",
       "      <th>23879</th>\n",
       "      <td>4</td>\n",
       "      <td>thank you</td>\n",
       "      <td>9</td>\n",
       "      <td>thank</td>\n",
       "    </tr>\n",
       "    <tr>\n",
       "      <th>23880</th>\n",
       "      <td>4</td>\n",
       "      <td>Better at this price</td>\n",
       "      <td>20</td>\n",
       "      <td>better price</td>\n",
       "    </tr>\n",
       "    <tr>\n",
       "      <th>23881</th>\n",
       "      <td>4</td>\n",
       "      <td>Nice product</td>\n",
       "      <td>12</td>\n",
       "      <td>nice product</td>\n",
       "    </tr>\n",
       "    <tr>\n",
       "      <th>23882</th>\n",
       "      <td>4</td>\n",
       "      <td>Awosome device but sound is little low but awo...</td>\n",
       "      <td>50</td>\n",
       "      <td>awosome device sound little low awosome</td>\n",
       "    </tr>\n",
       "  </tbody>\n",
       "</table>\n",
       "<p>23827 rows × 4 columns</p>\n",
       "</div>"
      ],
      "text/plain": [
       "       Ratings                                             Review  \\\n",
       "0            5  This is the best laptop in this range.I reciev...   \n",
       "1            5  Good product as used of now.... Everything is ...   \n",
       "2            5  AWESOME LAPTOP. It supports many high spec gam...   \n",
       "3            4  For that price... it's exceptionally good. Pla...   \n",
       "4            4  RAM upgrade is must do because the useable RAM...   \n",
       "...        ...                                                ...   \n",
       "23878        4  Volume is not large but quality is best better...   \n",
       "23879        4                                          thank you   \n",
       "23880        4                               Better at this price   \n",
       "23881        4                                       Nice product   \n",
       "23882        4  Awosome device but sound is little low but awo...   \n",
       "\n",
       "       review_length                                     Cleaned_review  \n",
       "0                500  best laptop rangei recieved late delivery due ...  \n",
       "1                271  good product used everything good also ssd slo...  \n",
       "2                 96  awesome laptop supports many high spec games l...  \n",
       "3                342  price exceptionally good played far cry  ultra...  \n",
       "4                500  ram upgrade must useable ram gb ryzen  h great...  \n",
       "...              ...                                                ...  \n",
       "23878            139  volume large quality best better small hall th...  \n",
       "23879              9                                              thank  \n",
       "23880             20                                       better price  \n",
       "23881             12                                       nice product  \n",
       "23882             50            awosome device sound little low awosome  \n",
       "\n",
       "[23827 rows x 4 columns]"
      ]
     },
     "execution_count": 31,
     "metadata": {},
     "output_type": "execute_result"
    }
   ],
   "source": [
    "# remove digits from cleaned review column\n",
    "df['Cleaned_review'] = df['Cleaned_review'].str.replace('\\d+','')\n",
    "df"
   ]
  },
  {
   "cell_type": "code",
   "execution_count": 34,
   "id": "37a749e4",
   "metadata": {},
   "outputs": [
    {
     "name": "stderr",
     "output_type": "stream",
     "text": [
      "[nltk_data] Downloading package wordnet to\n",
      "[nltk_data]     C:\\Users\\offic\\AppData\\Roaming\\nltk_data...\n",
      "[nltk_data]   Unzipping corpora\\wordnet.zip.\n"
     ]
    },
    {
     "data": {
      "text/plain": [
       "True"
      ]
     },
     "execution_count": 34,
     "metadata": {},
     "output_type": "execute_result"
    }
   ],
   "source": [
    "#nltk.download('wordnet')"
   ]
  },
  {
   "cell_type": "code",
   "execution_count": 35,
   "id": "00f0fbff",
   "metadata": {},
   "outputs": [
    {
     "data": {
      "text/html": [
       "<div>\n",
       "<style scoped>\n",
       "    .dataframe tbody tr th:only-of-type {\n",
       "        vertical-align: middle;\n",
       "    }\n",
       "\n",
       "    .dataframe tbody tr th {\n",
       "        vertical-align: top;\n",
       "    }\n",
       "\n",
       "    .dataframe thead th {\n",
       "        text-align: right;\n",
       "    }\n",
       "</style>\n",
       "<table border=\"1\" class=\"dataframe\">\n",
       "  <thead>\n",
       "    <tr style=\"text-align: right;\">\n",
       "      <th></th>\n",
       "      <th>Ratings</th>\n",
       "      <th>Review</th>\n",
       "      <th>review_length</th>\n",
       "      <th>Cleaned_review</th>\n",
       "    </tr>\n",
       "  </thead>\n",
       "  <tbody>\n",
       "    <tr>\n",
       "      <th>0</th>\n",
       "      <td>5</td>\n",
       "      <td>This is the best laptop in this range.I reciev...</td>\n",
       "      <td>500</td>\n",
       "      <td>best laptop rangei recieved late delivery due ...</td>\n",
       "    </tr>\n",
       "    <tr>\n",
       "      <th>1</th>\n",
       "      <td>5</td>\n",
       "      <td>Good product as used of now.... Everything is ...</td>\n",
       "      <td>271</td>\n",
       "      <td>good product used everything good also ssd slo...</td>\n",
       "    </tr>\n",
       "    <tr>\n",
       "      <th>2</th>\n",
       "      <td>5</td>\n",
       "      <td>AWESOME LAPTOP. It supports many high spec gam...</td>\n",
       "      <td>96</td>\n",
       "      <td>awesome laptop supports many high spec games l...</td>\n",
       "    </tr>\n",
       "    <tr>\n",
       "      <th>3</th>\n",
       "      <td>4</td>\n",
       "      <td>For that price... it's exceptionally good. Pla...</td>\n",
       "      <td>342</td>\n",
       "      <td>price exceptionally good played far cry  ultra...</td>\n",
       "    </tr>\n",
       "    <tr>\n",
       "      <th>4</th>\n",
       "      <td>4</td>\n",
       "      <td>RAM upgrade is must do because the useable RAM...</td>\n",
       "      <td>500</td>\n",
       "      <td>ram upgrade must useable ram gb ryzen  h great...</td>\n",
       "    </tr>\n",
       "    <tr>\n",
       "      <th>...</th>\n",
       "      <td>...</td>\n",
       "      <td>...</td>\n",
       "      <td>...</td>\n",
       "      <td>...</td>\n",
       "    </tr>\n",
       "    <tr>\n",
       "      <th>23878</th>\n",
       "      <td>4</td>\n",
       "      <td>Volume is not large but quality is best better...</td>\n",
       "      <td>139</td>\n",
       "      <td>volume large quality best better small hall th...</td>\n",
       "    </tr>\n",
       "    <tr>\n",
       "      <th>23879</th>\n",
       "      <td>4</td>\n",
       "      <td>thank you</td>\n",
       "      <td>9</td>\n",
       "      <td>thank</td>\n",
       "    </tr>\n",
       "    <tr>\n",
       "      <th>23880</th>\n",
       "      <td>4</td>\n",
       "      <td>Better at this price</td>\n",
       "      <td>20</td>\n",
       "      <td>better price</td>\n",
       "    </tr>\n",
       "    <tr>\n",
       "      <th>23881</th>\n",
       "      <td>4</td>\n",
       "      <td>Nice product</td>\n",
       "      <td>12</td>\n",
       "      <td>nice product</td>\n",
       "    </tr>\n",
       "    <tr>\n",
       "      <th>23882</th>\n",
       "      <td>4</td>\n",
       "      <td>Awosome device but sound is little low but awo...</td>\n",
       "      <td>50</td>\n",
       "      <td>awosome device sound little low awosome</td>\n",
       "    </tr>\n",
       "  </tbody>\n",
       "</table>\n",
       "<p>23827 rows × 4 columns</p>\n",
       "</div>"
      ],
      "text/plain": [
       "       Ratings                                             Review  \\\n",
       "0            5  This is the best laptop in this range.I reciev...   \n",
       "1            5  Good product as used of now.... Everything is ...   \n",
       "2            5  AWESOME LAPTOP. It supports many high spec gam...   \n",
       "3            4  For that price... it's exceptionally good. Pla...   \n",
       "4            4  RAM upgrade is must do because the useable RAM...   \n",
       "...        ...                                                ...   \n",
       "23878        4  Volume is not large but quality is best better...   \n",
       "23879        4                                          thank you   \n",
       "23880        4                               Better at this price   \n",
       "23881        4                                       Nice product   \n",
       "23882        4  Awosome device but sound is little low but awo...   \n",
       "\n",
       "       review_length                                     Cleaned_review  \n",
       "0                500  best laptop rangei recieved late delivery due ...  \n",
       "1                271  good product used everything good also ssd slo...  \n",
       "2                 96  awesome laptop supports many high spec games l...  \n",
       "3                342  price exceptionally good played far cry  ultra...  \n",
       "4                500  ram upgrade must useable ram gb ryzen  h great...  \n",
       "...              ...                                                ...  \n",
       "23878            139  volume large quality best better small hall th...  \n",
       "23879              9                                              thank  \n",
       "23880             20                                       better price  \n",
       "23881             12                                       nice product  \n",
       "23882             50            awosome device sound little low awosome  \n",
       "\n",
       "[23827 rows x 4 columns]"
      ]
     },
     "execution_count": 35,
     "metadata": {},
     "output_type": "execute_result"
    }
   ],
   "source": [
    "df['Cleaned_review']=[lemmatizer.lemmatize(x) for x in df['Cleaned_review']]\n",
    "df"
   ]
  },
  {
   "cell_type": "code",
   "execution_count": 36,
   "id": "66b2057e",
   "metadata": {},
   "outputs": [
    {
     "data": {
      "text/html": [
       "<div>\n",
       "<style scoped>\n",
       "    .dataframe tbody tr th:only-of-type {\n",
       "        vertical-align: middle;\n",
       "    }\n",
       "\n",
       "    .dataframe tbody tr th {\n",
       "        vertical-align: top;\n",
       "    }\n",
       "\n",
       "    .dataframe thead th {\n",
       "        text-align: right;\n",
       "    }\n",
       "</style>\n",
       "<table border=\"1\" class=\"dataframe\">\n",
       "  <thead>\n",
       "    <tr style=\"text-align: right;\">\n",
       "      <th></th>\n",
       "      <th>Ratings</th>\n",
       "      <th>Review</th>\n",
       "      <th>review_length</th>\n",
       "      <th>Cleaned_review</th>\n",
       "      <th>Cleaned_review_length</th>\n",
       "    </tr>\n",
       "  </thead>\n",
       "  <tbody>\n",
       "    <tr>\n",
       "      <th>0</th>\n",
       "      <td>5</td>\n",
       "      <td>This is the best laptop in this range.I reciev...</td>\n",
       "      <td>500</td>\n",
       "      <td>best laptop rangei recieved late delivery due ...</td>\n",
       "      <td>323</td>\n",
       "    </tr>\n",
       "    <tr>\n",
       "      <th>1</th>\n",
       "      <td>5</td>\n",
       "      <td>Good product as used of now.... Everything is ...</td>\n",
       "      <td>271</td>\n",
       "      <td>good product used everything good also ssd slo...</td>\n",
       "      <td>152</td>\n",
       "    </tr>\n",
       "    <tr>\n",
       "      <th>2</th>\n",
       "      <td>5</td>\n",
       "      <td>AWESOME LAPTOP. It supports many high spec gam...</td>\n",
       "      <td>96</td>\n",
       "      <td>awesome laptop supports many high spec games l...</td>\n",
       "      <td>79</td>\n",
       "    </tr>\n",
       "    <tr>\n",
       "      <th>3</th>\n",
       "      <td>4</td>\n",
       "      <td>For that price... it's exceptionally good. Pla...</td>\n",
       "      <td>342</td>\n",
       "      <td>price exceptionally good played far cry  ultra...</td>\n",
       "      <td>234</td>\n",
       "    </tr>\n",
       "    <tr>\n",
       "      <th>4</th>\n",
       "      <td>4</td>\n",
       "      <td>RAM upgrade is must do because the useable RAM...</td>\n",
       "      <td>500</td>\n",
       "      <td>ram upgrade must useable ram gb ryzen  h great...</td>\n",
       "      <td>348</td>\n",
       "    </tr>\n",
       "    <tr>\n",
       "      <th>...</th>\n",
       "      <td>...</td>\n",
       "      <td>...</td>\n",
       "      <td>...</td>\n",
       "      <td>...</td>\n",
       "      <td>...</td>\n",
       "    </tr>\n",
       "    <tr>\n",
       "      <th>23878</th>\n",
       "      <td>4</td>\n",
       "      <td>Volume is not large but quality is best better...</td>\n",
       "      <td>139</td>\n",
       "      <td>volume large quality best better small hall th...</td>\n",
       "      <td>101</td>\n",
       "    </tr>\n",
       "    <tr>\n",
       "      <th>23879</th>\n",
       "      <td>4</td>\n",
       "      <td>thank you</td>\n",
       "      <td>9</td>\n",
       "      <td>thank</td>\n",
       "      <td>5</td>\n",
       "    </tr>\n",
       "    <tr>\n",
       "      <th>23880</th>\n",
       "      <td>4</td>\n",
       "      <td>Better at this price</td>\n",
       "      <td>20</td>\n",
       "      <td>better price</td>\n",
       "      <td>12</td>\n",
       "    </tr>\n",
       "    <tr>\n",
       "      <th>23881</th>\n",
       "      <td>4</td>\n",
       "      <td>Nice product</td>\n",
       "      <td>12</td>\n",
       "      <td>nice product</td>\n",
       "      <td>12</td>\n",
       "    </tr>\n",
       "    <tr>\n",
       "      <th>23882</th>\n",
       "      <td>4</td>\n",
       "      <td>Awosome device but sound is little low but awo...</td>\n",
       "      <td>50</td>\n",
       "      <td>awosome device sound little low awosome</td>\n",
       "      <td>39</td>\n",
       "    </tr>\n",
       "  </tbody>\n",
       "</table>\n",
       "<p>23827 rows × 5 columns</p>\n",
       "</div>"
      ],
      "text/plain": [
       "       Ratings                                             Review  \\\n",
       "0            5  This is the best laptop in this range.I reciev...   \n",
       "1            5  Good product as used of now.... Everything is ...   \n",
       "2            5  AWESOME LAPTOP. It supports many high spec gam...   \n",
       "3            4  For that price... it's exceptionally good. Pla...   \n",
       "4            4  RAM upgrade is must do because the useable RAM...   \n",
       "...        ...                                                ...   \n",
       "23878        4  Volume is not large but quality is best better...   \n",
       "23879        4                                          thank you   \n",
       "23880        4                               Better at this price   \n",
       "23881        4                                       Nice product   \n",
       "23882        4  Awosome device but sound is little low but awo...   \n",
       "\n",
       "       review_length                                     Cleaned_review  \\\n",
       "0                500  best laptop rangei recieved late delivery due ...   \n",
       "1                271  good product used everything good also ssd slo...   \n",
       "2                 96  awesome laptop supports many high spec games l...   \n",
       "3                342  price exceptionally good played far cry  ultra...   \n",
       "4                500  ram upgrade must useable ram gb ryzen  h great...   \n",
       "...              ...                                                ...   \n",
       "23878            139  volume large quality best better small hall th...   \n",
       "23879              9                                              thank   \n",
       "23880             20                                       better price   \n",
       "23881             12                                       nice product   \n",
       "23882             50            awosome device sound little low awosome   \n",
       "\n",
       "       Cleaned_review_length  \n",
       "0                        323  \n",
       "1                        152  \n",
       "2                         79  \n",
       "3                        234  \n",
       "4                        348  \n",
       "...                      ...  \n",
       "23878                    101  \n",
       "23879                      5  \n",
       "23880                     12  \n",
       "23881                     12  \n",
       "23882                     39  \n",
       "\n",
       "[23827 rows x 5 columns]"
      ]
     },
     "execution_count": 36,
     "metadata": {},
     "output_type": "execute_result"
    }
   ],
   "source": [
    "df[\"Cleaned_review_length\"]=df[\"Cleaned_review\"].str.len()\n",
    "df"
   ]
  },
  {
   "cell_type": "code",
   "execution_count": 37,
   "id": "52ae8dbe",
   "metadata": {},
   "outputs": [],
   "source": [
    "t_vec=TfidfVectorizer()\n",
    "feature=t_vec.fit_transform(df['Cleaned_review'])\n",
    "\n",
    "x=feature\n",
    "y=df['Ratings']"
   ]
  },
  {
   "cell_type": "code",
   "execution_count": 38,
   "id": "77f03010",
   "metadata": {},
   "outputs": [
    {
     "data": {
      "text/plain": [
       "(23827, 14538)"
      ]
     },
     "execution_count": 38,
     "metadata": {},
     "output_type": "execute_result"
    }
   ],
   "source": [
    "x.shape"
   ]
  },
  {
   "cell_type": "code",
   "execution_count": 39,
   "id": "0e6092e8",
   "metadata": {},
   "outputs": [
    {
     "name": "stdout",
     "output_type": "stream",
     "text": [
      "(23827, 14538)\n",
      "(23827,)\n",
      "(44390, 14538)\n",
      "(44390,)\n"
     ]
    }
   ],
   "source": [
    "x_smote,y_smote=smote.fit_resample(x,y)\n",
    "print(x.shape)\n",
    "print(y.shape)\n",
    "print(x_smote.shape)\n",
    "print(y_smote.shape)"
   ]
  },
  {
   "cell_type": "code",
   "execution_count": 40,
   "id": "8dd286c1",
   "metadata": {},
   "outputs": [
    {
     "data": {
      "text/plain": [
       "1    8878\n",
       "2    8878\n",
       "3    8878\n",
       "4    8878\n",
       "5    8878\n",
       "Name: Ratings, dtype: int64"
      ]
     },
     "execution_count": 40,
     "metadata": {},
     "output_type": "execute_result"
    }
   ],
   "source": [
    "y_smote.value_counts()"
   ]
  },
  {
   "cell_type": "code",
   "execution_count": 41,
   "id": "5956245d",
   "metadata": {},
   "outputs": [],
   "source": [
    "x=x_smote.toarray()"
   ]
  },
  {
   "cell_type": "code",
   "execution_count": 42,
   "id": "64effdcd",
   "metadata": {},
   "outputs": [],
   "source": [
    "# split train and test data\n",
    "from sklearn.model_selection import train_test_split\n",
    "x_train,x_test,y_train,y_test = train_test_split(x,y_smote,test_size=0.10,random_state=42)"
   ]
  },
  {
   "cell_type": "code",
   "execution_count": 60,
   "id": "0b9832d5",
   "metadata": {},
   "outputs": [
    {
     "name": "stdout",
     "output_type": "stream",
     "text": [
      "Accuracy of LogisticRegression() is:\n",
      "Accuracy of training model is: 0.6109233811418988\n",
      "Accuracy Score: 54.78711421491327\n",
      "Confusion matrix: \n",
      " [[554 209  78  20  25]\n",
      " [174 564 115  22  12]\n",
      " [ 87 133 438 108  80]\n",
      " [ 30 102 166 386 225]\n",
      " [ 26  55 107 233 490]]\n",
      "Classification report: \n",
      "               precision    recall  f1-score   support\n",
      "\n",
      "           1       0.64      0.63      0.63       886\n",
      "           2       0.53      0.64      0.58       887\n",
      "           3       0.48      0.52      0.50       846\n",
      "           4       0.50      0.42      0.46       909\n",
      "           5       0.59      0.54      0.56       911\n",
      "\n",
      "    accuracy                           0.55      4439\n",
      "   macro avg       0.55      0.55      0.55      4439\n",
      "weighted avg       0.55      0.55      0.55      4439\n",
      "\n",
      "************************************************************\n",
      "\n",
      "\n",
      "Accuracy of DecisionTreeClassifier() is:\n",
      "Accuracy of training model is: 0.8693649720908112\n",
      "Accuracy Score: 60.441540887587294\n",
      "Confusion matrix: \n",
      " [[551 141  81  45  68]\n",
      " [133 609  84  31  30]\n",
      " [ 83  60 509  98  96]\n",
      " [ 39  41 151 454 224]\n",
      " [ 42  28 112 169 560]]\n",
      "Classification report: \n",
      "               precision    recall  f1-score   support\n",
      "\n",
      "           1       0.65      0.62      0.64       886\n",
      "           2       0.69      0.69      0.69       887\n",
      "           3       0.54      0.60      0.57       846\n",
      "           4       0.57      0.50      0.53       909\n",
      "           5       0.57      0.61      0.59       911\n",
      "\n",
      "    accuracy                           0.60      4439\n",
      "   macro avg       0.61      0.60      0.60      4439\n",
      "weighted avg       0.61      0.60      0.60      4439\n",
      "\n",
      "************************************************************\n",
      "\n",
      "\n",
      "Accuracy of MultinomialNB() is:\n",
      "Accuracy of training model is: 0.6124001902330355\n",
      "Accuracy Score: 55.26019373732822\n",
      "Confusion matrix: \n",
      " [[613 133  93  22  25]\n",
      " [247 452 142  25  21]\n",
      " [103  64 475  70 134]\n",
      " [ 47  21 197 361 283]\n",
      " [ 32  22 123 182 552]]\n",
      "Classification report: \n",
      "               precision    recall  f1-score   support\n",
      "\n",
      "           1       0.59      0.69      0.64       886\n",
      "           2       0.65      0.51      0.57       887\n",
      "           3       0.46      0.56      0.51       846\n",
      "           4       0.55      0.40      0.46       909\n",
      "           5       0.54      0.61      0.57       911\n",
      "\n",
      "    accuracy                           0.55      4439\n",
      "   macro avg       0.56      0.55      0.55      4439\n",
      "weighted avg       0.56      0.55      0.55      4439\n",
      "\n",
      "************************************************************\n",
      "\n",
      "\n"
     ]
    }
   ],
   "source": [
    "# our problem is classification type of problem.\n",
    "# import useful libraries for machine learning algorithms\n",
    "from sklearn.linear_model import LogisticRegression\n",
    "from sklearn.tree import DecisionTreeClassifier\n",
    "from sklearn.naive_bayes import MultinomialNB\n",
    "from sklearn.ensemble import RandomForestClassifier\n",
    "from sklearn.metrics import accuracy_score,confusion_matrix,classification_report\n",
    "\n",
    "model = [LogisticRegression(),DecisionTreeClassifier(),MultinomialNB()]\n",
    "\n",
    "for m in model:\n",
    "    m.fit(x_train,y_train)\n",
    "    train = m.score(x_train,y_train)\n",
    "    predm = m.predict(x_test)\n",
    "    print(\"Accuracy of\",m,\"is:\")\n",
    "    print(\"Accuracy of training model is:\",train)\n",
    "    print(\"Accuracy Score:\",accuracy_score(y_test,predm)*100)\n",
    "    print(\"Confusion matrix:\",\"\\n\",confusion_matrix(y_test,predm))\n",
    "    print(\"Classification report:\",\"\\n\",classification_report(y_test,predm))\n",
    "    print(\"************************************************************\")\n",
    "    print(\"\\n\")"
   ]
  },
  {
   "cell_type": "code",
   "execution_count": 48,
   "id": "1da5ff77",
   "metadata": {},
   "outputs": [],
   "source": [
    "from sklearn.svm import SVC"
   ]
  },
  {
   "cell_type": "code",
   "execution_count": 49,
   "id": "2579fb35",
   "metadata": {},
   "outputs": [
    {
     "name": "stdout",
     "output_type": "stream",
     "text": [
      "Accuracy of SVC() is:\n",
      "Accuracy of training model is: 0.7779529924157093\n",
      "Accuracy Score: 67.0646542013967\n",
      "Confusion matrix: \n",
      " [[655 128  47   9  47]\n",
      " [ 88 694  73  16  16]\n",
      " [ 75  70 532  62 107]\n",
      " [ 31  79 117 430 252]\n",
      " [ 42  10  87 106 666]]\n",
      "Classification report: \n",
      "               precision    recall  f1-score   support\n",
      "\n",
      "           1       0.74      0.74      0.74       886\n",
      "           2       0.71      0.78      0.74       887\n",
      "           3       0.62      0.63      0.63       846\n",
      "           4       0.69      0.47      0.56       909\n",
      "           5       0.61      0.73      0.67       911\n",
      "\n",
      "    accuracy                           0.67      4439\n",
      "   macro avg       0.67      0.67      0.67      4439\n",
      "weighted avg       0.67      0.67      0.67      4439\n",
      "\n",
      "************************************************************\n",
      "\n",
      "\n"
     ]
    }
   ],
   "source": [
    "model = [SVC()]\n",
    "\n",
    "for m in model:\n",
    "    m.fit(x_train,y_train)\n",
    "    train = m.score(x_train,y_train)\n",
    "    predm = m.predict(x_test)\n",
    "    print(\"Accuracy of\",m,\"is:\")\n",
    "    print(\"Accuracy of training model is:\",train)\n",
    "    print(\"Accuracy Score:\",accuracy_score(y_test,predm)*100)\n",
    "    print(\"Confusion matrix:\",\"\\n\",confusion_matrix(y_test,predm))\n",
    "    print(\"Classification report:\",\"\\n\",classification_report(y_test,predm))\n",
    "    print(\"************************************************************\")\n",
    "    print(\"\\n\")"
   ]
  },
  {
   "cell_type": "code",
   "execution_count": 61,
   "id": "7049180b",
   "metadata": {},
   "outputs": [
    {
     "name": "stdout",
     "output_type": "stream",
     "text": [
      "Accuracy of RandomForestClassifier() is:\n",
      "Accuracy of training model is: 0.8693649720908112\n",
      "Accuracy Score: 72.15589096643387\n",
      "Confusion matrix: \n",
      " [[655 106  57  16  52]\n",
      " [ 57 745  58  18   9]\n",
      " [ 47  34 624  55  86]\n",
      " [ 18  24 117 577 173]\n",
      " [ 40  22  88 159 602]]\n",
      "Classification report: \n",
      "               precision    recall  f1-score   support\n",
      "\n",
      "           1       0.80      0.74      0.77       886\n",
      "           2       0.80      0.84      0.82       887\n",
      "           3       0.66      0.74      0.70       846\n",
      "           4       0.70      0.63      0.67       909\n",
      "           5       0.65      0.66      0.66       911\n",
      "\n",
      "    accuracy                           0.72      4439\n",
      "   macro avg       0.72      0.72      0.72      4439\n",
      "weighted avg       0.72      0.72      0.72      4439\n",
      "\n"
     ]
    }
   ],
   "source": [
    "    rf=RandomForestClassifier()\n",
    "    rf.fit(x_train,y_train)\n",
    "    trainrf = rf.score(x_train,y_train)\n",
    "    predrf = rf.predict(x_test)\n",
    "    print(\"Accuracy of\",rf,\"is:\")\n",
    "    print(\"Accuracy of training model is:\",trainrf)\n",
    "    print(\"Accuracy Score:\",accuracy_score(y_test,predrf)*100)\n",
    "    print(\"Confusion matrix:\",\"\\n\",confusion_matrix(y_test,predrf))\n",
    "    print(\"Classification report:\",\"\\n\",classification_report(y_test,predrf))"
   ]
  },
  {
   "cell_type": "code",
   "execution_count": 66,
   "id": "5e2f59fa",
   "metadata": {},
   "outputs": [
    {
     "data": {
      "text/plain": [
       "['rf_ratingprediction.pkl']"
      ]
     },
     "execution_count": 66,
     "metadata": {},
     "output_type": "execute_result"
    }
   ],
   "source": [
    "# Save best model\n",
    "import joblib\n",
    "joblib.dump(rf,\"rf_ratingprediction.pkl\")"
   ]
  },
  {
   "cell_type": "code",
   "execution_count": null,
   "id": "6c82deef",
   "metadata": {},
   "outputs": [],
   "source": []
  }
 ],
 "metadata": {
  "kernelspec": {
   "display_name": "Python 3",
   "language": "python",
   "name": "python3"
  },
  "language_info": {
   "codemirror_mode": {
    "name": "ipython",
    "version": 3
   },
   "file_extension": ".py",
   "mimetype": "text/x-python",
   "name": "python",
   "nbconvert_exporter": "python",
   "pygments_lexer": "ipython3",
   "version": "3.8.8"
  }
 },
 "nbformat": 4,
 "nbformat_minor": 5
}
