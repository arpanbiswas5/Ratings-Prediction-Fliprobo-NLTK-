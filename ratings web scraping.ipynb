{
 "cells": [
  {
   "cell_type": "code",
   "execution_count": 79,
   "id": "31aced83",
   "metadata": {},
   "outputs": [],
   "source": [
    "import pandas as pd\n",
    "import selenium\n",
    "from selenium import webdriver\n",
    "import time\n",
    "from bs4 import BeautifulSoup\n",
    "from selenium.common.exceptions import NoSuchElementException\n",
    "from selenium.webdriver.support.ui import WebDriverWait\n",
    "from selenium.webdriver.support import expected_conditions as EC\n",
    "from selenium.webdriver.common.by import By"
   ]
  },
  {
   "cell_type": "code",
   "execution_count": 3,
   "id": "0121a1cc",
   "metadata": {},
   "outputs": [],
   "source": [
    "driver=webdriver.Chrome(\"chromedriver.exe\")#opening the chrome driver"
   ]
  },
  {
   "cell_type": "code",
   "execution_count": 4,
   "id": "6db965e0",
   "metadata": {},
   "outputs": [],
   "source": [
    "driver.get(\"https://www.flipkart.com/hp-pavilion-gaming-ryzen-5-quad-core-3550h-8-gb-1-tb-hdd-windows-10-home-4-gb-graphics-nvidia-geforce-gtx-1650-15-ec0101ax-laptop/product-reviews/itma1af6bf593dc8?pid=COMFSFNVDXG74QXR&lid=LSTCOMFSFNVDXG74QXRY8FRH2&marketplace=FLIPKART\")"
   ]
  },
  {
   "cell_type": "code",
   "execution_count": 5,
   "id": "2d44bc83",
   "metadata": {},
   "outputs": [],
   "source": [
    "driver.find_element_by_xpath(\"//nav[@class='yFHi8N']/a[2]\").click() # click on 2 page\n",
    "time.sleep(8)  # sleep code for 8 second\n",
    "\n",
    "# again click on 1 page to get url with page=1 at the end, which is extract below\n",
    "driver.find_element_by_xpath(\"//nav[@class='yFHi8N']/a[1]\").click()"
   ]
  },
  {
   "cell_type": "code",
   "execution_count": 6,
   "id": "876b4d77",
   "metadata": {},
   "outputs": [
    {
     "data": {
      "text/plain": [
       "'https://www.flipkart.com/hp-pavilion-gaming-ryzen-5-quad-core-3550h-8-gb-1-tb-hdd-windows-10-home-4-gb-graphics-nvidia-geforce-gtx-1650-15-ec0101ax-laptop/product-reviews/itma1af6bf593dc8?pid=COMFSFNVDXG74QXR&lid=LSTCOMFSFNVDXG74QXRY8FRH2&marketplace=FLIPKART&page=1'"
      ]
     },
     "execution_count": 6,
     "metadata": {},
     "output_type": "execute_result"
    }
   ],
   "source": [
    "driver.current_url"
   ]
  },
  {
   "cell_type": "code",
   "execution_count": 7,
   "id": "18963be4",
   "metadata": {},
   "outputs": [
    {
     "name": "stdout",
     "output_type": "stream",
     "text": [
      "1499\n",
      "1499\n"
     ]
    }
   ],
   "source": [
    "# create empty list\n",
    "ratings = []\n",
    "reviews = []\n",
    "\n",
    "for page in range(1, 151, 1):\n",
    "    # below url take from the above code result\n",
    "    page_url = \"https://www.flipkart.com/hp-pavilion-gaming-ryzen-5-quad-core-3550h-8-gb-1-tb-hdd-windows-10-home-4-gb-graphics-nvidia-geforce-gtx-1650-15-ec0101ax-laptop/product-reviews/itma1af6bf593dc8?pid=COMFSFNVDXG74QXR&lid=LSTCOMFSFNVDXG74QXRY8FRH2&marketplace=FLIPKART&page=\" + str(page)\n",
    "    driver.get(page_url)\n",
    "    rating_ = driver.find_elements_by_xpath(\"//div[@class='col _2wzgFH K0kLPL']/div[1]/div[1]\")\n",
    "    review_ = driver.find_elements_by_xpath(\"//*[@id='container']/div/div[3]/div/div[1]/div[2]/div/div/div/div/div[2]/div/div/div\")\n",
    "                                             \n",
    "    for i in rating_:\n",
    "        ratings.append(i.text)\n",
    "    for k in review_:\n",
    "        reviews.append(k.text)\n",
    "\n",
    "#printing the length of lists\n",
    "print(len(ratings))\n",
    "print(len(reviews))"
   ]
  },
  {
   "cell_type": "code",
   "execution_count": 8,
   "id": "a72d3147",
   "metadata": {},
   "outputs": [],
   "source": [
    "driver.close()"
   ]
  },
  {
   "cell_type": "code",
   "execution_count": 9,
   "id": "08026c4f",
   "metadata": {},
   "outputs": [
    {
     "data": {
      "text/html": [
       "<div>\n",
       "<style scoped>\n",
       "    .dataframe tbody tr th:only-of-type {\n",
       "        vertical-align: middle;\n",
       "    }\n",
       "\n",
       "    .dataframe tbody tr th {\n",
       "        vertical-align: top;\n",
       "    }\n",
       "\n",
       "    .dataframe thead th {\n",
       "        text-align: right;\n",
       "    }\n",
       "</style>\n",
       "<table border=\"1\" class=\"dataframe\">\n",
       "  <thead>\n",
       "    <tr style=\"text-align: right;\">\n",
       "      <th></th>\n",
       "      <th>Ratings</th>\n",
       "      <th>Review</th>\n",
       "    </tr>\n",
       "  </thead>\n",
       "  <tbody>\n",
       "    <tr>\n",
       "      <th>0</th>\n",
       "      <td>5</td>\n",
       "      <td>This is the best laptop in this range.I reciev...</td>\n",
       "    </tr>\n",
       "    <tr>\n",
       "      <th>1</th>\n",
       "      <td>5</td>\n",
       "      <td>Good product as used of now.... Everything is ...</td>\n",
       "    </tr>\n",
       "    <tr>\n",
       "      <th>2</th>\n",
       "      <td>5</td>\n",
       "      <td>AWESOME LAPTOP. It supports many high spec gam...</td>\n",
       "    </tr>\n",
       "    <tr>\n",
       "      <th>3</th>\n",
       "      <td>4</td>\n",
       "      <td>For that price... it's exceptionally good. Pla...</td>\n",
       "    </tr>\n",
       "    <tr>\n",
       "      <th>4</th>\n",
       "      <td>4</td>\n",
       "      <td>RAM upgrade is must do because the useable RAM...</td>\n",
       "    </tr>\n",
       "    <tr>\n",
       "      <th>...</th>\n",
       "      <td>...</td>\n",
       "      <td>...</td>\n",
       "    </tr>\n",
       "    <tr>\n",
       "      <th>1494</th>\n",
       "      <td>5</td>\n",
       "      <td>Excellent</td>\n",
       "    </tr>\n",
       "    <tr>\n",
       "      <th>1495</th>\n",
       "      <td>1</td>\n",
       "      <td>Overall good product</td>\n",
       "    </tr>\n",
       "    <tr>\n",
       "      <th>1496</th>\n",
       "      <td>1</td>\n",
       "      <td>Waste of money. I want to buy a gaming laptop ...</td>\n",
       "    </tr>\n",
       "    <tr>\n",
       "      <th>1497</th>\n",
       "      <td>3</td>\n",
       "      <td>Overall decent laptop. Loud fans. Bootup time ...</td>\n",
       "    </tr>\n",
       "    <tr>\n",
       "      <th>1498</th>\n",
       "      <td>1</td>\n",
       "      <td>less Battery backup and after 15 days from dat...</td>\n",
       "    </tr>\n",
       "  </tbody>\n",
       "</table>\n",
       "<p>1499 rows × 2 columns</p>\n",
       "</div>"
      ],
      "text/plain": [
       "     Ratings                                             Review\n",
       "0          5  This is the best laptop in this range.I reciev...\n",
       "1          5  Good product as used of now.... Everything is ...\n",
       "2          5  AWESOME LAPTOP. It supports many high spec gam...\n",
       "3          4  For that price... it's exceptionally good. Pla...\n",
       "4          4  RAM upgrade is must do because the useable RAM...\n",
       "...      ...                                                ...\n",
       "1494       5                                          Excellent\n",
       "1495       1                               Overall good product\n",
       "1496       1  Waste of money. I want to buy a gaming laptop ...\n",
       "1497       3  Overall decent laptop. Loud fans. Bootup time ...\n",
       "1498       1  less Battery backup and after 15 days from dat...\n",
       "\n",
       "[1499 rows x 2 columns]"
      ]
     },
     "execution_count": 9,
     "metadata": {},
     "output_type": "execute_result"
    }
   ],
   "source": [
    "# make dataframe\n",
    "df1 = pd.DataFrame({})\n",
    "df1['Ratings'] = ratings\n",
    "df1['Review'] = reviews\n",
    "df1"
   ]
  },
  {
   "cell_type": "code",
   "execution_count": 39,
   "id": "dde38c74",
   "metadata": {},
   "outputs": [],
   "source": [
    "driver=webdriver.Chrome(\"chromedriver.exe\")#opening the chrome driver"
   ]
  },
  {
   "cell_type": "code",
   "execution_count": 40,
   "id": "86d31458",
   "metadata": {},
   "outputs": [],
   "source": [
    "driver.get(\"https://www.flipkart.com/samsung-galaxy-f22-denim-blue-64-gb/product-reviews/itmce0a6baf0d54d?pid=MOBG43UGBTGGB99V&lid=LSTMOBG43UGBTGGB99VLZACSD&marketplace=FLIPKART\")"
   ]
  },
  {
   "cell_type": "code",
   "execution_count": 41,
   "id": "c8deca45",
   "metadata": {},
   "outputs": [],
   "source": [
    "driver.find_element_by_xpath(\"//nav[@class='yFHi8N']/a[2]\").click() # click on 2 page\n",
    "time.sleep(8)  # sleep code for 8 second\n",
    "\n",
    "# again click on 1 page to get url with page=1 at the end, which is extract below\n",
    "driver.find_element_by_xpath(\"//nav[@class='yFHi8N']/a[1]\").click()"
   ]
  },
  {
   "cell_type": "code",
   "execution_count": 42,
   "id": "5d33cf52",
   "metadata": {},
   "outputs": [
    {
     "data": {
      "text/plain": [
       "'https://www.flipkart.com/samsung-galaxy-f22-denim-blue-64-gb/product-reviews/itmce0a6baf0d54d?pid=MOBG43UGBTGGB99V&lid=LSTMOBG43UGBTGGB99VLZACSD&marketplace=FLIPKART&page=1'"
      ]
     },
     "execution_count": 42,
     "metadata": {},
     "output_type": "execute_result"
    }
   ],
   "source": [
    "driver.current_url"
   ]
  },
  {
   "cell_type": "code",
   "execution_count": 44,
   "id": "dee23c5a",
   "metadata": {},
   "outputs": [
    {
     "name": "stdout",
     "output_type": "stream",
     "text": [
      "775\n",
      "775\n"
     ]
    }
   ],
   "source": [
    "# create empty list\n",
    "ratings = []\n",
    "reviews = []\n",
    "\n",
    "for page in range(1, 151, 1):\n",
    "    # below url take from the above code result\n",
    "    page_url = \"https://www.flipkart.com/samsung-galaxy-f22-denim-blue-64-gb/product-reviews/itmce0a6baf0d54d?pid=MOBG43UGBTGGB99V&lid=LSTMOBG43UGBTGGB99VLZACSD&marketplace=FLIPKART&page=1\" + str(page)\n",
    "    driver.get(page_url)\n",
    "    rating_ = driver.find_elements_by_xpath(\"//div[@class='col _2wzgFH K0kLPL']/div[1]/div[1]\")\n",
    "    review_ = driver.find_elements_by_xpath(\"//*[@id='container']/div/div[3]/div/div[1]/div[2]/div/div/div/div/div[2]/div/div/div\")\n",
    "                                             \n",
    "    for i in rating_:\n",
    "        ratings.append(i.text)\n",
    "    for k in review_:\n",
    "        reviews.append(k.text)\n",
    "\n",
    "#printing the length of lists\n",
    "print(len(ratings))\n",
    "print(len(reviews))"
   ]
  },
  {
   "cell_type": "code",
   "execution_count": 17,
   "id": "61712e02",
   "metadata": {},
   "outputs": [],
   "source": [
    "driver.close()"
   ]
  },
  {
   "cell_type": "code",
   "execution_count": 18,
   "id": "381f2b00",
   "metadata": {},
   "outputs": [
    {
     "data": {
      "text/html": [
       "<div>\n",
       "<style scoped>\n",
       "    .dataframe tbody tr th:only-of-type {\n",
       "        vertical-align: middle;\n",
       "    }\n",
       "\n",
       "    .dataframe tbody tr th {\n",
       "        vertical-align: top;\n",
       "    }\n",
       "\n",
       "    .dataframe thead th {\n",
       "        text-align: right;\n",
       "    }\n",
       "</style>\n",
       "<table border=\"1\" class=\"dataframe\">\n",
       "  <thead>\n",
       "    <tr style=\"text-align: right;\">\n",
       "      <th></th>\n",
       "      <th>Ratings</th>\n",
       "      <th>Review</th>\n",
       "    </tr>\n",
       "  </thead>\n",
       "  <tbody>\n",
       "    <tr>\n",
       "      <th>0</th>\n",
       "      <td>5</td>\n",
       "      <td>Really a good phone love it..</td>\n",
       "    </tr>\n",
       "    <tr>\n",
       "      <th>1</th>\n",
       "      <td>5</td>\n",
       "      <td>Worth it for buy. You can also buy this\\nVery ...</td>\n",
       "    </tr>\n",
       "    <tr>\n",
       "      <th>2</th>\n",
       "      <td>1</td>\n",
       "      <td>Not good phone. Mic is not working and flipkar...</td>\n",
       "    </tr>\n",
       "    <tr>\n",
       "      <th>3</th>\n",
       "      <td>4</td>\n",
       "      <td>Super mobile</td>\n",
       "    </tr>\n",
       "    <tr>\n",
       "      <th>4</th>\n",
       "      <td>4</td>\n",
       "      <td>Average experience. These phone is good. But t...</td>\n",
       "    </tr>\n",
       "    <tr>\n",
       "      <th>...</th>\n",
       "      <td>...</td>\n",
       "      <td>...</td>\n",
       "    </tr>\n",
       "    <tr>\n",
       "      <th>985</th>\n",
       "      <td>5</td>\n",
       "      <td>Excellent phone</td>\n",
       "    </tr>\n",
       "    <tr>\n",
       "      <th>986</th>\n",
       "      <td>5</td>\n",
       "      <td>Very nice</td>\n",
       "    </tr>\n",
       "    <tr>\n",
       "      <th>987</th>\n",
       "      <td>4</td>\n",
       "      <td>Superb</td>\n",
       "    </tr>\n",
       "    <tr>\n",
       "      <th>988</th>\n",
       "      <td>4</td>\n",
       "      <td>Good quality</td>\n",
       "    </tr>\n",
       "    <tr>\n",
       "      <th>989</th>\n",
       "      <td>5</td>\n",
       "      <td>Good phone</td>\n",
       "    </tr>\n",
       "  </tbody>\n",
       "</table>\n",
       "<p>990 rows × 2 columns</p>\n",
       "</div>"
      ],
      "text/plain": [
       "    Ratings                                             Review\n",
       "0         5                      Really a good phone love it..\n",
       "1         5  Worth it for buy. You can also buy this\\nVery ...\n",
       "2         1  Not good phone. Mic is not working and flipkar...\n",
       "3         4                                       Super mobile\n",
       "4         4  Average experience. These phone is good. But t...\n",
       "..      ...                                                ...\n",
       "985       5                                    Excellent phone\n",
       "986       5                                          Very nice\n",
       "987       4                                             Superb\n",
       "988       4                                       Good quality\n",
       "989       5                                         Good phone\n",
       "\n",
       "[990 rows x 2 columns]"
      ]
     },
     "execution_count": 18,
     "metadata": {},
     "output_type": "execute_result"
    }
   ],
   "source": [
    "# make dataframe\n",
    "df2 = pd.DataFrame({})\n",
    "df2['Ratings'] = ratings\n",
    "df2['Review'] = reviews\n",
    "df2"
   ]
  },
  {
   "cell_type": "code",
   "execution_count": 32,
   "id": "65303a52",
   "metadata": {},
   "outputs": [],
   "source": [
    "driver=webdriver.Chrome(\"chromedriver.exe\")#opening the chrome driver"
   ]
  },
  {
   "cell_type": "code",
   "execution_count": 33,
   "id": "46f8a1d0",
   "metadata": {},
   "outputs": [],
   "source": [
    "driver.get(\"https://www.flipkart.com/realme-narzo-20-glory-silver-64-gb/product-reviews/itm4ac58d879006d?pid=MOBFVEATBBRGJBKH&lid=LSTMOBFVEATBBRGJBKH4OKPVI&marketplace=FLIPKART\")"
   ]
  },
  {
   "cell_type": "code",
   "execution_count": 34,
   "id": "800c1858",
   "metadata": {},
   "outputs": [],
   "source": [
    "# click on negative filter first\n",
    "driver.find_element_by_xpath(\"//*[@id='container']/div/div[3]/div/div/div[2]/div[1]/div[1]/div[2]/div/div/div/div/select/option[4]\").click()"
   ]
  },
  {
   "cell_type": "code",
   "execution_count": 35,
   "id": "4108da94",
   "metadata": {},
   "outputs": [
    {
     "data": {
      "text/plain": [
       "'https://www.flipkart.com/realme-narzo-20-glory-silver-64-gb/product-reviews/itm4ac58d879006d?pid=MOBFVEATBBRGJBKH&lid=LSTMOBFVEATBBRGJBKH4OKPVI&aid=overall&certifiedBuyer=false&sortOrder=NEGATIVE_FIRST'"
      ]
     },
     "execution_count": 35,
     "metadata": {},
     "output_type": "execute_result"
    }
   ],
   "source": [
    "time.sleep(8)  # sleep code for 8 second\n",
    "\n",
    "# click on page no.- 2\n",
    "driver.find_element_by_xpath(\"//*[@id='container']/div/div[3]/div/div/div[2]/div[13]/div/div/nav/a[2]\").click() \n",
    "\n",
    "# extract page no.-2 url for apply loop of all pages\n",
    "driver.current_url"
   ]
  },
  {
   "cell_type": "code",
   "execution_count": 36,
   "id": "60cc39fe",
   "metadata": {},
   "outputs": [
    {
     "name": "stdout",
     "output_type": "stream",
     "text": [
      "4486\n",
      "4486\n"
     ]
    }
   ],
   "source": [
    "# create empty list\n",
    "ratings = []\n",
    "reviews = []\n",
    "\n",
    "for page in range(1, 451, 1):\n",
    "    # below url take from the above code result\n",
    "    page_url = \"https://www.flipkart.com/realme-narzo-20-glory-silver-64-gb/product-reviews/itm4ac58d879006d?pid=MOBFVEATBBRGJBKH&lid=LSTMOBFVEATBBRGJBKH4OKPVI&aid=overall&certifiedBuyer=false&sortOrder=NEGATIVE_FIRST&page=\" + str(page)\n",
    "    driver.get(page_url)\n",
    "    rating_ = driver.find_elements_by_xpath(\"//div[@class='col _2wzgFH K0kLPL']/div[1]/div[1]\")                                  \n",
    "    review_ = driver.find_elements_by_xpath(\"//*[@id='container']/div/div[3]/div/div[1]/div[2]/div/div/div/div/div[2]/div/div/div\")\n",
    "                            \n",
    "    for i in rating_:\n",
    "        ratings.append(i.text)\n",
    "    for k in review_:\n",
    "        reviews.append(k.text)\n",
    "\n",
    "#printing the length of lists\n",
    "print(len(ratings))\n",
    "print(len(reviews))"
   ]
  },
  {
   "cell_type": "code",
   "execution_count": 37,
   "id": "ca200fd7",
   "metadata": {},
   "outputs": [
    {
     "data": {
      "text/html": [
       "<div>\n",
       "<style scoped>\n",
       "    .dataframe tbody tr th:only-of-type {\n",
       "        vertical-align: middle;\n",
       "    }\n",
       "\n",
       "    .dataframe tbody tr th {\n",
       "        vertical-align: top;\n",
       "    }\n",
       "\n",
       "    .dataframe thead th {\n",
       "        text-align: right;\n",
       "    }\n",
       "</style>\n",
       "<table border=\"1\" class=\"dataframe\">\n",
       "  <thead>\n",
       "    <tr style=\"text-align: right;\">\n",
       "      <th></th>\n",
       "      <th>Ratings</th>\n",
       "      <th>Review</th>\n",
       "    </tr>\n",
       "  </thead>\n",
       "  <tbody>\n",
       "    <tr>\n",
       "      <th>0</th>\n",
       "      <td>1</td>\n",
       "      <td>The wrost product I ever used. because\\nno aut...</td>\n",
       "    </tr>\n",
       "    <tr>\n",
       "      <th>1</th>\n",
       "      <td>1</td>\n",
       "      <td>Good</td>\n",
       "    </tr>\n",
       "    <tr>\n",
       "      <th>2</th>\n",
       "      <td>1</td>\n",
       "      <td>waste of money the sound quality to bad also w...</td>\n",
       "    </tr>\n",
       "    <tr>\n",
       "      <th>3</th>\n",
       "      <td>1</td>\n",
       "      <td>Don't buy mobiles in Flipkart. I have received...</td>\n",
       "    </tr>\n",
       "    <tr>\n",
       "      <th>4</th>\n",
       "      <td>1</td>\n",
       "      <td>Display quality is bad.\\nSignal issue. Issue i...</td>\n",
       "    </tr>\n",
       "    <tr>\n",
       "      <th>...</th>\n",
       "      <td>...</td>\n",
       "      <td>...</td>\n",
       "    </tr>\n",
       "    <tr>\n",
       "      <th>4481</th>\n",
       "      <td>3</td>\n",
       "      <td>Overall phone is good but the worst part is di...</td>\n",
       "    </tr>\n",
       "    <tr>\n",
       "      <th>4482</th>\n",
       "      <td>3</td>\n",
       "      <td>Okok mobile ...not that much impressive</td>\n",
       "    </tr>\n",
       "    <tr>\n",
       "      <th>4483</th>\n",
       "      <td>3</td>\n",
       "      <td>Nice look And Nice product</td>\n",
       "    </tr>\n",
       "    <tr>\n",
       "      <th>4484</th>\n",
       "      <td>3</td>\n",
       "      <td>Good</td>\n",
       "    </tr>\n",
       "    <tr>\n",
       "      <th>4485</th>\n",
       "      <td>3</td>\n",
       "      <td>It is well worth the price.</td>\n",
       "    </tr>\n",
       "  </tbody>\n",
       "</table>\n",
       "<p>4486 rows × 2 columns</p>\n",
       "</div>"
      ],
      "text/plain": [
       "     Ratings                                             Review\n",
       "0          1  The wrost product I ever used. because\\nno aut...\n",
       "1          1                                               Good\n",
       "2          1  waste of money the sound quality to bad also w...\n",
       "3          1  Don't buy mobiles in Flipkart. I have received...\n",
       "4          1  Display quality is bad.\\nSignal issue. Issue i...\n",
       "...      ...                                                ...\n",
       "4481       3  Overall phone is good but the worst part is di...\n",
       "4482       3            Okok mobile ...not that much impressive\n",
       "4483       3                         Nice look And Nice product\n",
       "4484       3                                               Good\n",
       "4485       3                        It is well worth the price.\n",
       "\n",
       "[4486 rows x 2 columns]"
      ]
     },
     "execution_count": 37,
     "metadata": {},
     "output_type": "execute_result"
    }
   ],
   "source": [
    "# make dataframe\n",
    "df3 = pd.DataFrame({})\n",
    "df3['Ratings'] = ratings\n",
    "df3['Review'] = reviews\n",
    "df3"
   ]
  },
  {
   "cell_type": "code",
   "execution_count": 45,
   "id": "1d0c2fbd",
   "metadata": {},
   "outputs": [],
   "source": [
    "driver.close()"
   ]
  },
  {
   "cell_type": "code",
   "execution_count": 55,
   "id": "bcc9b811",
   "metadata": {},
   "outputs": [],
   "source": [
    "driver=webdriver.Chrome(\"chromedriver.exe\")#opening the chrome driver"
   ]
  },
  {
   "cell_type": "code",
   "execution_count": 56,
   "id": "d14833cb",
   "metadata": {},
   "outputs": [],
   "source": [
    "driver.get(\"https://www.myntra.com/reviews/2004043\")"
   ]
  },
  {
   "cell_type": "code",
   "execution_count": 57,
   "id": "58bc3e73",
   "metadata": {},
   "outputs": [],
   "source": [
    "# scroll down page till last\n",
    "\n",
    "SCROLL_PAUSE_TIME = 1\n",
    "\n",
    "# Get scroll height \n",
    "last_height = driver.execute_script(\"return document.body.scrollHeight\")\n",
    "\n",
    "while True: \n",
    "    # Scroll down to bottom\n",
    "    driver.execute_script(\"window.scrollTo(0, document.body.scrollHeight);\")\n",
    "\n",
    "    # Wait to load page \n",
    "\n",
    "    time.sleep(SCROLL_PAUSE_TIME)\n",
    "\n",
    "    # Calculate new scroll height and compare with last scroll height\n",
    "\n",
    "    new_height = driver.execute_script(\"return document.body.scrollHeight\")\n",
    "\n",
    "    if new_height == last_height:\n",
    "\n",
    "        break\n",
    "\n",
    "    last_height = new_height"
   ]
  },
  {
   "cell_type": "code",
   "execution_count": 58,
   "id": "c7d41021",
   "metadata": {},
   "outputs": [
    {
     "name": "stdout",
     "output_type": "stream",
     "text": [
      "1957\n",
      "1957\n"
     ]
    }
   ],
   "source": [
    "# create empty list\n",
    "ratings = []\n",
    "reviews = []\n",
    "\n",
    "rating_ = driver.find_elements_by_xpath(\"//*[@id='detailedReviewsContainer']/div/div[1]/div[1]/span\")    \n",
    "review_ = driver.find_elements_by_xpath(\"//*[@id='detailedReviewsContainer']/div/div[1]/div[2]\")\n",
    "\n",
    "for i in rating_:\n",
    "    ratings.append(i.text)\n",
    "for k in review_:\n",
    "    reviews.append(k.text)\n",
    "\n",
    "#printing the length of lists\n",
    "print(len(ratings))\n",
    "print(len(reviews))"
   ]
  },
  {
   "cell_type": "code",
   "execution_count": 59,
   "id": "6bc7ef5a",
   "metadata": {},
   "outputs": [
    {
     "data": {
      "text/html": [
       "<div>\n",
       "<style scoped>\n",
       "    .dataframe tbody tr th:only-of-type {\n",
       "        vertical-align: middle;\n",
       "    }\n",
       "\n",
       "    .dataframe tbody tr th {\n",
       "        vertical-align: top;\n",
       "    }\n",
       "\n",
       "    .dataframe thead th {\n",
       "        text-align: right;\n",
       "    }\n",
       "</style>\n",
       "<table border=\"1\" class=\"dataframe\">\n",
       "  <thead>\n",
       "    <tr style=\"text-align: right;\">\n",
       "      <th></th>\n",
       "      <th>Ratings</th>\n",
       "      <th>Review</th>\n",
       "    </tr>\n",
       "  </thead>\n",
       "  <tbody>\n",
       "    <tr>\n",
       "      <th>0</th>\n",
       "      <td>4</td>\n",
       "      <td>As a show of pic on myntra display same as phy...</td>\n",
       "    </tr>\n",
       "    <tr>\n",
       "      <th>1</th>\n",
       "      <td>4</td>\n",
       "      <td>Flipkart delivered it early and packing is goo...</td>\n",
       "    </tr>\n",
       "    <tr>\n",
       "      <th>2</th>\n",
       "      <td>4</td>\n",
       "      <td>It completes all the bass needs But sound beco...</td>\n",
       "    </tr>\n",
       "    <tr>\n",
       "      <th>3</th>\n",
       "      <td>4</td>\n",
       "      <td>The product is awful, it worked to well with g...</td>\n",
       "    </tr>\n",
       "    <tr>\n",
       "      <th>4</th>\n",
       "      <td>5</td>\n",
       "      <td>Really awesome sounds quality 👌...and bass lov...</td>\n",
       "    </tr>\n",
       "    <tr>\n",
       "      <th>...</th>\n",
       "      <td>...</td>\n",
       "      <td>...</td>\n",
       "    </tr>\n",
       "    <tr>\n",
       "      <th>1952</th>\n",
       "      <td>1</td>\n",
       "      <td>Not gud</td>\n",
       "    </tr>\n",
       "    <tr>\n",
       "      <th>1953</th>\n",
       "      <td>1</td>\n",
       "      <td>Jeck</td>\n",
       "    </tr>\n",
       "    <tr>\n",
       "      <th>1954</th>\n",
       "      <td>1</td>\n",
       "      <td>Very bad</td>\n",
       "    </tr>\n",
       "    <tr>\n",
       "      <th>1955</th>\n",
       "      <td>1</td>\n",
       "      <td>Useless</td>\n",
       "    </tr>\n",
       "    <tr>\n",
       "      <th>1956</th>\n",
       "      <td>1</td>\n",
       "      <td>Thanks myntra 👍</td>\n",
       "    </tr>\n",
       "  </tbody>\n",
       "</table>\n",
       "<p>1957 rows × 2 columns</p>\n",
       "</div>"
      ],
      "text/plain": [
       "     Ratings                                             Review\n",
       "0          4  As a show of pic on myntra display same as phy...\n",
       "1          4  Flipkart delivered it early and packing is goo...\n",
       "2          4  It completes all the bass needs But sound beco...\n",
       "3          4  The product is awful, it worked to well with g...\n",
       "4          5  Really awesome sounds quality 👌...and bass lov...\n",
       "...      ...                                                ...\n",
       "1952       1                                            Not gud\n",
       "1953       1                                               Jeck\n",
       "1954       1                                           Very bad\n",
       "1955       1                                            Useless\n",
       "1956       1                                    Thanks myntra 👍\n",
       "\n",
       "[1957 rows x 2 columns]"
      ]
     },
     "execution_count": 59,
     "metadata": {},
     "output_type": "execute_result"
    }
   ],
   "source": [
    "# make dataframe\n",
    "df4 = pd.DataFrame({})\n",
    "df4['Ratings'] = ratings\n",
    "df4['Review'] = reviews\n",
    "df4"
   ]
  },
  {
   "cell_type": "code",
   "execution_count": 60,
   "id": "1f6f931c",
   "metadata": {},
   "outputs": [],
   "source": [
    "driver.close()"
   ]
  },
  {
   "cell_type": "code",
   "execution_count": 61,
   "id": "a3e93757",
   "metadata": {},
   "outputs": [],
   "source": [
    "driver=webdriver.Chrome(\"chromedriver.exe\")#opening the chrome driver"
   ]
  },
  {
   "cell_type": "code",
   "execution_count": 62,
   "id": "41087f99",
   "metadata": {},
   "outputs": [],
   "source": [
    "driver.get(\"https://www.myntra.com/reviews/9928205\")"
   ]
  },
  {
   "cell_type": "code",
   "execution_count": 63,
   "id": "681f9d9e",
   "metadata": {},
   "outputs": [],
   "source": [
    "# scroll down page till last\n",
    "\n",
    "SCROLL_PAUSE_TIME = 1\n",
    "\n",
    "# Get scroll height \n",
    "last_height = driver.execute_script(\"return document.body.scrollHeight\")\n",
    "\n",
    "while True: \n",
    "    # Scroll down to bottom\n",
    "    driver.execute_script(\"window.scrollTo(0, document.body.scrollHeight);\")\n",
    "\n",
    "    # Wait to load page \n",
    "\n",
    "    time.sleep(SCROLL_PAUSE_TIME)\n",
    "\n",
    "    # Calculate new scroll height and compare with last scroll height\n",
    "\n",
    "    new_height = driver.execute_script(\"return document.body.scrollHeight\")\n",
    "\n",
    "    if new_height == last_height:\n",
    "\n",
    "        break\n",
    "\n",
    "    last_height = new_height"
   ]
  },
  {
   "cell_type": "code",
   "execution_count": 64,
   "id": "343e445d",
   "metadata": {},
   "outputs": [
    {
     "name": "stdout",
     "output_type": "stream",
     "text": [
      "2518\n",
      "2518\n"
     ]
    }
   ],
   "source": [
    "# create empty list\n",
    "ratings = []\n",
    "reviews = []\n",
    "\n",
    "rating_ = driver.find_elements_by_xpath(\"//*[@id='detailedReviewsContainer']/div/div[1]/div[1]/span\")    \n",
    "review_ = driver.find_elements_by_xpath(\"//*[@id='detailedReviewsContainer']/div/div[1]/div[2]\")\n",
    "\n",
    "for i in rating_:\n",
    "    ratings.append(i.text)\n",
    "for k in review_:\n",
    "    reviews.append(k.text)\n",
    "\n",
    "#printing the length of lists\n",
    "print(len(ratings))\n",
    "print(len(reviews))"
   ]
  },
  {
   "cell_type": "code",
   "execution_count": 65,
   "id": "7ff67049",
   "metadata": {},
   "outputs": [
    {
     "data": {
      "text/html": [
       "<div>\n",
       "<style scoped>\n",
       "    .dataframe tbody tr th:only-of-type {\n",
       "        vertical-align: middle;\n",
       "    }\n",
       "\n",
       "    .dataframe tbody tr th {\n",
       "        vertical-align: top;\n",
       "    }\n",
       "\n",
       "    .dataframe thead th {\n",
       "        text-align: right;\n",
       "    }\n",
       "</style>\n",
       "<table border=\"1\" class=\"dataframe\">\n",
       "  <thead>\n",
       "    <tr style=\"text-align: right;\">\n",
       "      <th></th>\n",
       "      <th>Ratings</th>\n",
       "      <th>Review</th>\n",
       "    </tr>\n",
       "  </thead>\n",
       "  <tbody>\n",
       "    <tr>\n",
       "      <th>0</th>\n",
       "      <td>1</td>\n",
       "      <td>I got damaged product and also not working pro...</td>\n",
       "    </tr>\n",
       "    <tr>\n",
       "      <th>1</th>\n",
       "      <td>1</td>\n",
       "      <td>Worst product i have seen. Now i understood wh...</td>\n",
       "    </tr>\n",
       "    <tr>\n",
       "      <th>2</th>\n",
       "      <td>1</td>\n",
       "      <td>I buy this earphone by reading reviews on mynt...</td>\n",
       "    </tr>\n",
       "    <tr>\n",
       "      <th>3</th>\n",
       "      <td>1</td>\n",
       "      <td>The product is not working properly. It's just...</td>\n",
       "    </tr>\n",
       "    <tr>\n",
       "      <th>4</th>\n",
       "      <td>1</td>\n",
       "      <td>Atfirst it's looks is nice but it's sound was ...</td>\n",
       "    </tr>\n",
       "    <tr>\n",
       "      <th>...</th>\n",
       "      <td>...</td>\n",
       "      <td>...</td>\n",
       "    </tr>\n",
       "    <tr>\n",
       "      <th>2513</th>\n",
       "      <td>1</td>\n",
       "      <td>Not good</td>\n",
       "    </tr>\n",
       "    <tr>\n",
       "      <th>2514</th>\n",
       "      <td>1</td>\n",
       "      <td>Not good</td>\n",
       "    </tr>\n",
       "    <tr>\n",
       "      <th>2515</th>\n",
       "      <td>1</td>\n",
       "      <td>bad</td>\n",
       "    </tr>\n",
       "    <tr>\n",
       "      <th>2516</th>\n",
       "      <td>1</td>\n",
       "      <td>Bad</td>\n",
       "    </tr>\n",
       "    <tr>\n",
       "      <th>2517</th>\n",
       "      <td>1</td>\n",
       "      <td>Bad Product</td>\n",
       "    </tr>\n",
       "  </tbody>\n",
       "</table>\n",
       "<p>2518 rows × 2 columns</p>\n",
       "</div>"
      ],
      "text/plain": [
       "     Ratings                                             Review\n",
       "0          1  I got damaged product and also not working pro...\n",
       "1          1  Worst product i have seen. Now i understood wh...\n",
       "2          1  I buy this earphone by reading reviews on mynt...\n",
       "3          1  The product is not working properly. It's just...\n",
       "4          1  Atfirst it's looks is nice but it's sound was ...\n",
       "...      ...                                                ...\n",
       "2513       1                                           Not good\n",
       "2514       1                                           Not good\n",
       "2515       1                                                bad\n",
       "2516       1                                                Bad\n",
       "2517       1                                        Bad Product\n",
       "\n",
       "[2518 rows x 2 columns]"
      ]
     },
     "execution_count": 65,
     "metadata": {},
     "output_type": "execute_result"
    }
   ],
   "source": [
    "# make dataframe\n",
    "df5 = pd.DataFrame({})\n",
    "df5['Ratings'] = ratings\n",
    "df5['Review'] = reviews\n",
    "df5"
   ]
  },
  {
   "cell_type": "code",
   "execution_count": 67,
   "id": "428718f0",
   "metadata": {},
   "outputs": [],
   "source": [
    "driver.get(\"https://www.myntra.com/reviews/13471916\")"
   ]
  },
  {
   "cell_type": "code",
   "execution_count": 69,
   "id": "bf743c33",
   "metadata": {},
   "outputs": [],
   "source": [
    "# scroll down page till last\n",
    "\n",
    "SCROLL_PAUSE_TIME = 1\n",
    "\n",
    "# Get scroll height \n",
    "last_height = driver.execute_script(\"return document.body.scrollHeight\")\n",
    "\n",
    "while True: \n",
    "    # Scroll down to bottom\n",
    "    driver.execute_script(\"window.scrollTo(0, document.body.scrollHeight);\")\n",
    "\n",
    "    # Wait to load page \n",
    "\n",
    "    time.sleep(SCROLL_PAUSE_TIME)\n",
    "\n",
    "    # Calculate new scroll height and compare with last scroll height\n",
    "\n",
    "    new_height = driver.execute_script(\"return document.body.scrollHeight\")\n",
    "\n",
    "    if new_height == last_height:\n",
    "\n",
    "        break\n",
    "\n",
    "    last_height = new_height"
   ]
  },
  {
   "cell_type": "code",
   "execution_count": 70,
   "id": "eb428aec",
   "metadata": {},
   "outputs": [
    {
     "name": "stdout",
     "output_type": "stream",
     "text": [
      "2066\n",
      "2066\n"
     ]
    }
   ],
   "source": [
    "# create empty list\n",
    "ratings = []\n",
    "reviews = []\n",
    "\n",
    "rating_ = driver.find_elements_by_xpath(\"//*[@id='detailedReviewsContainer']/div/div[1]/div[1]/span\")    \n",
    "review_ = driver.find_elements_by_xpath(\"//*[@id='detailedReviewsContainer']/div/div[1]/div[2]\")\n",
    "\n",
    "for i in rating_:\n",
    "    ratings.append(i.text)\n",
    "for k in review_:\n",
    "    reviews.append(k.text)\n",
    "\n",
    "#printing the length of lists\n",
    "print(len(ratings))\n",
    "print(len(reviews))"
   ]
  },
  {
   "cell_type": "code",
   "execution_count": 71,
   "id": "bc718804",
   "metadata": {},
   "outputs": [
    {
     "data": {
      "text/html": [
       "<div>\n",
       "<style scoped>\n",
       "    .dataframe tbody tr th:only-of-type {\n",
       "        vertical-align: middle;\n",
       "    }\n",
       "\n",
       "    .dataframe tbody tr th {\n",
       "        vertical-align: top;\n",
       "    }\n",
       "\n",
       "    .dataframe thead th {\n",
       "        text-align: right;\n",
       "    }\n",
       "</style>\n",
       "<table border=\"1\" class=\"dataframe\">\n",
       "  <thead>\n",
       "    <tr style=\"text-align: right;\">\n",
       "      <th></th>\n",
       "      <th>Ratings</th>\n",
       "      <th>Review</th>\n",
       "    </tr>\n",
       "  </thead>\n",
       "  <tbody>\n",
       "    <tr>\n",
       "      <th>0</th>\n",
       "      <td>1</td>\n",
       "      <td>Worest product for ever Everything it is showi...</td>\n",
       "    </tr>\n",
       "    <tr>\n",
       "      <th>1</th>\n",
       "      <td>1</td>\n",
       "      <td>This product keeps track of fitness data if th...</td>\n",
       "    </tr>\n",
       "    <tr>\n",
       "      <th>2</th>\n",
       "      <td>1</td>\n",
       "      <td>I will not recommend to buy this product. Its ...</td>\n",
       "    </tr>\n",
       "    <tr>\n",
       "      <th>3</th>\n",
       "      <td>1</td>\n",
       "      <td>Connectivity with phone is very bad</td>\n",
       "    </tr>\n",
       "    <tr>\n",
       "      <th>4</th>\n",
       "      <td>1</td>\n",
       "      <td>Worst product.. basic feature like call notifi...</td>\n",
       "    </tr>\n",
       "    <tr>\n",
       "      <th>...</th>\n",
       "      <td>...</td>\n",
       "      <td>...</td>\n",
       "    </tr>\n",
       "    <tr>\n",
       "      <th>2061</th>\n",
       "      <td>1</td>\n",
       "      <td>OTP issue</td>\n",
       "    </tr>\n",
       "    <tr>\n",
       "      <th>2062</th>\n",
       "      <td>1</td>\n",
       "      <td>This product is waist</td>\n",
       "    </tr>\n",
       "    <tr>\n",
       "      <th>2063</th>\n",
       "      <td>2</td>\n",
       "      <td>Quality of this product is not satisfactory.</td>\n",
       "    </tr>\n",
       "    <tr>\n",
       "      <th>2064</th>\n",
       "      <td>1</td>\n",
       "      <td>Not worth , avoid it</td>\n",
       "    </tr>\n",
       "    <tr>\n",
       "      <th>2065</th>\n",
       "      <td>1</td>\n",
       "      <td>Not just like expected</td>\n",
       "    </tr>\n",
       "  </tbody>\n",
       "</table>\n",
       "<p>2066 rows × 2 columns</p>\n",
       "</div>"
      ],
      "text/plain": [
       "     Ratings                                             Review\n",
       "0          1  Worest product for ever Everything it is showi...\n",
       "1          1  This product keeps track of fitness data if th...\n",
       "2          1  I will not recommend to buy this product. Its ...\n",
       "3          1                Connectivity with phone is very bad\n",
       "4          1  Worst product.. basic feature like call notifi...\n",
       "...      ...                                                ...\n",
       "2061       1                                          OTP issue\n",
       "2062       1                              This product is waist\n",
       "2063       2       Quality of this product is not satisfactory.\n",
       "2064       1                               Not worth , avoid it\n",
       "2065       1                             Not just like expected\n",
       "\n",
       "[2066 rows x 2 columns]"
      ]
     },
     "execution_count": 71,
     "metadata": {},
     "output_type": "execute_result"
    }
   ],
   "source": [
    "# make dataframe\n",
    "df6 = pd.DataFrame({})\n",
    "df6['Ratings'] = ratings\n",
    "df6['Review'] = reviews\n",
    "df6"
   ]
  },
  {
   "cell_type": "code",
   "execution_count": 73,
   "id": "84989acd",
   "metadata": {},
   "outputs": [],
   "source": [
    "driver.close()"
   ]
  },
  {
   "cell_type": "code",
   "execution_count": 74,
   "id": "ca323571",
   "metadata": {},
   "outputs": [],
   "source": [
    "driver=webdriver.Chrome(\"chromedriver.exe\")#opening the chrome driver"
   ]
  },
  {
   "cell_type": "code",
   "execution_count": 75,
   "id": "91ddf828",
   "metadata": {},
   "outputs": [],
   "source": [
    "driver.get(\"https://www.amazon.in/Canon-1500D-Digital-Camera-S18-55/product-reviews/B07BS4TJ43/ref=cm_cr_dp_d_show_all_btm?ie=UTF8&reviewerType=all_reviews\")"
   ]
  },
  {
   "cell_type": "code",
   "execution_count": 77,
   "id": "7188e454",
   "metadata": {},
   "outputs": [
    {
     "data": {
      "text/plain": [
       "'https://www.amazon.in/Canon-1500D-Digital-Camera-S18-55/product-reviews/B07BS4TJ43/ref=cm_cr_getr_d_paging_btm_next_2?ie=UTF8&reviewerType=all_reviews&pageNumber=2'"
      ]
     },
     "execution_count": 77,
     "metadata": {},
     "output_type": "execute_result"
    }
   ],
   "source": [
    "# click on next page\n",
    "driver.find_element_by_xpath(\"//*[@id='cm_cr-pagination_bar']/ul/li[2]/a\").click() \n",
    "\n",
    "# extract page no.-2 url for apply loop of all pages\n",
    "driver.current_url"
   ]
  },
  {
   "cell_type": "code",
   "execution_count": 80,
   "id": "98f16d3d",
   "metadata": {},
   "outputs": [
    {
     "name": "stdout",
     "output_type": "stream",
     "text": [
      "3000\n",
      "3000\n"
     ]
    }
   ],
   "source": [
    "# create empty list\n",
    "ratings = []\n",
    "reviews = []\n",
    "\n",
    "for page in range(1, 301, 1):\n",
    "    # below url take from the above code result\n",
    "    page_url = \"https://www.amazon.in/Canon-1500D-Digital-Camera-S18-55/product-reviews/B07BS4TJ43/ref=cm_cr_getr_d_paging_btm_next_2?ie=UTF8&reviewerType=all_reviews&pageNumber=\" + str(page)\n",
    "    driver.get(page_url)\n",
    "    \n",
    "    soup= BeautifulSoup(driver.page_source, 'html.parser')\n",
    "    \n",
    "    rating_ = soup.find_all('i',attrs={'data-hook':'review-star-rating'})    \n",
    "    review_ = soup.find_all('span',attrs={'class':'a-size-base review-text review-text-content'})    \n",
    "                            \n",
    "    \n",
    "    for i in rating_:\n",
    "        ratings.append(i.text.replace(\" out of 5 stars\",\"\"))\n",
    "        \n",
    "    for k in review_:\n",
    "        reviews.append(k.text)\n",
    "\n",
    "#printing the length of lists\n",
    "print(len(ratings))\n",
    "print(len(reviews))"
   ]
  },
  {
   "cell_type": "code",
   "execution_count": 81,
   "id": "0e87c8d2",
   "metadata": {},
   "outputs": [
    {
     "data": {
      "text/html": [
       "<div>\n",
       "<style scoped>\n",
       "    .dataframe tbody tr th:only-of-type {\n",
       "        vertical-align: middle;\n",
       "    }\n",
       "\n",
       "    .dataframe tbody tr th {\n",
       "        vertical-align: top;\n",
       "    }\n",
       "\n",
       "    .dataframe thead th {\n",
       "        text-align: right;\n",
       "    }\n",
       "</style>\n",
       "<table border=\"1\" class=\"dataframe\">\n",
       "  <thead>\n",
       "    <tr style=\"text-align: right;\">\n",
       "      <th></th>\n",
       "      <th>Ratings</th>\n",
       "      <th>Review</th>\n",
       "    </tr>\n",
       "  </thead>\n",
       "  <tbody>\n",
       "    <tr>\n",
       "      <th>0</th>\n",
       "      <td>2.0</td>\n",
       "      <td>\\n\\n  Ok the DSLR Giant Canon have launched 1 ...</td>\n",
       "    </tr>\n",
       "    <tr>\n",
       "      <th>1</th>\n",
       "      <td>5.0</td>\n",
       "      <td>\\n\\n  Good camera for beginners.\\n\\n</td>\n",
       "    </tr>\n",
       "    <tr>\n",
       "      <th>2</th>\n",
       "      <td>5.0</td>\n",
       "      <td>\\n\\n  Great camera. Perfect product for young ...</td>\n",
       "    </tr>\n",
       "    <tr>\n",
       "      <th>3</th>\n",
       "      <td>5.0</td>\n",
       "      <td>\\n\\n  Really impressed with Amazon surprise fo...</td>\n",
       "    </tr>\n",
       "    <tr>\n",
       "      <th>4</th>\n",
       "      <td>1.0</td>\n",
       "      <td>\\n\\n  You are on your own if you buy this prod...</td>\n",
       "    </tr>\n",
       "    <tr>\n",
       "      <th>...</th>\n",
       "      <td>...</td>\n",
       "      <td>...</td>\n",
       "    </tr>\n",
       "    <tr>\n",
       "      <th>2995</th>\n",
       "      <td>5.0</td>\n",
       "      <td>\\n\\n  Picture quality is very good if used in ...</td>\n",
       "    </tr>\n",
       "    <tr>\n",
       "      <th>2996</th>\n",
       "      <td>4.0</td>\n",
       "      <td>\\n\\n  Canon 1500D is a good beginner's camera....</td>\n",
       "    </tr>\n",
       "    <tr>\n",
       "      <th>2997</th>\n",
       "      <td>4.0</td>\n",
       "      <td>\\n\\n  Easy to use and handle, handy grip, smoo...</td>\n",
       "    </tr>\n",
       "    <tr>\n",
       "      <th>2998</th>\n",
       "      <td>5.0</td>\n",
       "      <td>\\n\\n  I bought it for 20,000/- during Diwali s...</td>\n",
       "    </tr>\n",
       "    <tr>\n",
       "      <th>2999</th>\n",
       "      <td>5.0</td>\n",
       "      <td>\\n\\n  All out there looking for new DSLR camer...</td>\n",
       "    </tr>\n",
       "  </tbody>\n",
       "</table>\n",
       "<p>3000 rows × 2 columns</p>\n",
       "</div>"
      ],
      "text/plain": [
       "     Ratings                                             Review\n",
       "0        2.0  \\n\\n  Ok the DSLR Giant Canon have launched 1 ...\n",
       "1        5.0               \\n\\n  Good camera for beginners.\\n\\n\n",
       "2        5.0  \\n\\n  Great camera. Perfect product for young ...\n",
       "3        5.0  \\n\\n  Really impressed with Amazon surprise fo...\n",
       "4        1.0  \\n\\n  You are on your own if you buy this prod...\n",
       "...      ...                                                ...\n",
       "2995     5.0  \\n\\n  Picture quality is very good if used in ...\n",
       "2996     4.0  \\n\\n  Canon 1500D is a good beginner's camera....\n",
       "2997     4.0  \\n\\n  Easy to use and handle, handy grip, smoo...\n",
       "2998     5.0  \\n\\n  I bought it for 20,000/- during Diwali s...\n",
       "2999     5.0  \\n\\n  All out there looking for new DSLR camer...\n",
       "\n",
       "[3000 rows x 2 columns]"
      ]
     },
     "execution_count": 81,
     "metadata": {},
     "output_type": "execute_result"
    }
   ],
   "source": [
    "# make dataframe\n",
    "df7 = pd.DataFrame({})\n",
    "df7['Ratings'] = ratings\n",
    "df7['Review'] = reviews\n",
    "df7"
   ]
  },
  {
   "cell_type": "code",
   "execution_count": 105,
   "id": "cbb8acc4",
   "metadata": {},
   "outputs": [],
   "source": [
    "driver.get(\"https://www.amazon.in/Redmi-inches-Ready-L32M6-RA-Android/product-reviews/B09F9YQQ7B/ref=cm_cr_dp_d_show_all_btm?ie=UTF8&reviewerType=all_reviews\")"
   ]
  },
  {
   "cell_type": "code",
   "execution_count": 106,
   "id": "12fbc150",
   "metadata": {},
   "outputs": [
    {
     "data": {
      "text/plain": [
       "'https://www.amazon.in/Redmi-inches-Ready-L32M6-RA-Android/product-reviews/B09F9YQQ7B/ref=cm_cr_arp_d_paging_btm_next_2?ie=UTF8&reviewerType=all_reviews&pageNumber=2'"
      ]
     },
     "execution_count": 106,
     "metadata": {},
     "output_type": "execute_result"
    }
   ],
   "source": [
    "# click on next page\n",
    "driver.find_element_by_xpath(\"//*[@id='cm_cr-pagination_bar']/ul/li[2]/a\").click() \n",
    "\n",
    "# extract page no.-2 url for apply loop of all pages\n",
    "driver.current_url"
   ]
  },
  {
   "cell_type": "code",
   "execution_count": 107,
   "id": "08e8e061",
   "metadata": {},
   "outputs": [
    {
     "name": "stdout",
     "output_type": "stream",
     "text": [
      "3000\n",
      "3000\n"
     ]
    }
   ],
   "source": [
    "# create empty list\n",
    "ratings = []\n",
    "reviews = []\n",
    "\n",
    "for page in range(1, 301, 1):\n",
    "    # below url take from the above code result\n",
    "    page_url = \"https://www.amazon.in/Redmi-inches-Ready-L32M6-RA-Android/product-reviews/B09F9YQQ7B/ref=cm_cr_arp_d_paging_btm_next_2?ie=UTF8&reviewerType=all_reviews&pageNumber=\" + str(page)\n",
    "    driver.get(page_url)\n",
    "    \n",
    "    soup= BeautifulSoup(driver.page_source, 'html.parser')\n",
    "    \n",
    "    rating_ = soup.find_all('i',attrs={'data-hook':'review-star-rating'})    \n",
    "    review_ = soup.find_all('span',attrs={'class':'a-size-base review-text review-text-content'})    \n",
    "                            \n",
    "    \n",
    "    for i in rating_:\n",
    "        ratings.append(i.text.replace(\" out of 5 stars\",\"\"))\n",
    "        \n",
    "    for k in review_:\n",
    "        reviews.append(k.text)\n",
    "\n",
    "#printing the length of lists\n",
    "print(len(ratings))\n",
    "print(len(reviews))"
   ]
  },
  {
   "cell_type": "code",
   "execution_count": 108,
   "id": "9c24a190",
   "metadata": {},
   "outputs": [
    {
     "data": {
      "text/html": [
       "<div>\n",
       "<style scoped>\n",
       "    .dataframe tbody tr th:only-of-type {\n",
       "        vertical-align: middle;\n",
       "    }\n",
       "\n",
       "    .dataframe tbody tr th {\n",
       "        vertical-align: top;\n",
       "    }\n",
       "\n",
       "    .dataframe thead th {\n",
       "        text-align: right;\n",
       "    }\n",
       "</style>\n",
       "<table border=\"1\" class=\"dataframe\">\n",
       "  <thead>\n",
       "    <tr style=\"text-align: right;\">\n",
       "      <th></th>\n",
       "      <th>Ratings</th>\n",
       "      <th>Review</th>\n",
       "    </tr>\n",
       "  </thead>\n",
       "  <tbody>\n",
       "    <tr>\n",
       "      <th>0</th>\n",
       "      <td>5.0</td>\n",
       "      <td>\\n\\n\\n\\n\\n                    The media could ...</td>\n",
       "    </tr>\n",
       "    <tr>\n",
       "      <th>1</th>\n",
       "      <td>5.0</td>\n",
       "      <td>\\n\\n  Worth for money product.I am writing thi...</td>\n",
       "    </tr>\n",
       "    <tr>\n",
       "      <th>2</th>\n",
       "      <td>3.0</td>\n",
       "      <td>\\n\\n  Given wrong serial number. So installati...</td>\n",
       "    </tr>\n",
       "    <tr>\n",
       "      <th>3</th>\n",
       "      <td>1.0</td>\n",
       "      <td>\\n\\n  Pathetic product  Never buy it.Picture i...</td>\n",
       "    </tr>\n",
       "    <tr>\n",
       "      <th>4</th>\n",
       "      <td>1.0</td>\n",
       "      <td>\\n\\n\\n\\n\\n                    The media could ...</td>\n",
       "    </tr>\n",
       "    <tr>\n",
       "      <th>...</th>\n",
       "      <td>...</td>\n",
       "      <td>...</td>\n",
       "    </tr>\n",
       "    <tr>\n",
       "      <th>2995</th>\n",
       "      <td>4.0</td>\n",
       "      <td>\\n\\n  Good Nice product\\n\\n</td>\n",
       "    </tr>\n",
       "    <tr>\n",
       "      <th>2996</th>\n",
       "      <td>5.0</td>\n",
       "      <td>\\n\\n  Awosome product\\n\\n</td>\n",
       "    </tr>\n",
       "    <tr>\n",
       "      <th>2997</th>\n",
       "      <td>1.0</td>\n",
       "      <td>\\n\\n  bad\\n\\n</td>\n",
       "    </tr>\n",
       "    <tr>\n",
       "      <th>2998</th>\n",
       "      <td>5.0</td>\n",
       "      <td>\\n\\n  Looks good\\n\\n</td>\n",
       "    </tr>\n",
       "    <tr>\n",
       "      <th>2999</th>\n",
       "      <td>1.0</td>\n",
       "      <td>\\n\\n  Bad sounds quality\\n\\n</td>\n",
       "    </tr>\n",
       "  </tbody>\n",
       "</table>\n",
       "<p>3000 rows × 2 columns</p>\n",
       "</div>"
      ],
      "text/plain": [
       "     Ratings                                             Review\n",
       "0        5.0  \\n\\n\\n\\n\\n                    The media could ...\n",
       "1        5.0  \\n\\n  Worth for money product.I am writing thi...\n",
       "2        3.0  \\n\\n  Given wrong serial number. So installati...\n",
       "3        1.0  \\n\\n  Pathetic product  Never buy it.Picture i...\n",
       "4        1.0  \\n\\n\\n\\n\\n                    The media could ...\n",
       "...      ...                                                ...\n",
       "2995     4.0                        \\n\\n  Good Nice product\\n\\n\n",
       "2996     5.0                          \\n\\n  Awosome product\\n\\n\n",
       "2997     1.0                                      \\n\\n  bad\\n\\n\n",
       "2998     5.0                               \\n\\n  Looks good\\n\\n\n",
       "2999     1.0                       \\n\\n  Bad sounds quality\\n\\n\n",
       "\n",
       "[3000 rows x 2 columns]"
      ]
     },
     "execution_count": 108,
     "metadata": {},
     "output_type": "execute_result"
    }
   ],
   "source": [
    "# make dataframe\n",
    "df8 = pd.DataFrame({})\n",
    "df8['Ratings'] = ratings\n",
    "df8['Review'] = reviews\n",
    "df8"
   ]
  },
  {
   "cell_type": "code",
   "execution_count": 109,
   "id": "7af83742",
   "metadata": {},
   "outputs": [],
   "source": [
    "driver.get(\"https://www.amazon.in/Canon-MG2577s-Inkjet-Colour-Printer/product-reviews/B01EJ5MM5M/ref=cm_cr_dp_d_show_all_btm?ie=UTF8&reviewerType=all_reviews\")"
   ]
  },
  {
   "cell_type": "code",
   "execution_count": 95,
   "id": "0206a4c1",
   "metadata": {},
   "outputs": [
    {
     "data": {
      "text/plain": [
       "'https://www.amazon.in/Canon-MG2577s-Inkjet-Colour-Printer/product-reviews/B01EJ5MM5M/ref=cm_cr_arp_d_paging_btm_next_2?ie=UTF8&reviewerType=all_reviews&pageNumber=2'"
      ]
     },
     "execution_count": 95,
     "metadata": {},
     "output_type": "execute_result"
    }
   ],
   "source": [
    "# click on next page\n",
    "driver.find_element_by_xpath(\"//*[@id='cm_cr-pagination_bar']/ul/li[2]/a\").click() \n",
    "      \n",
    "# extract page no.-2 url for apply loop of all pages\n",
    "driver.current_url"
   ]
  },
  {
   "cell_type": "code",
   "execution_count": 96,
   "id": "349c0c8c",
   "metadata": {},
   "outputs": [
    {
     "name": "stdout",
     "output_type": "stream",
     "text": [
      "3000\n",
      "3000\n"
     ]
    }
   ],
   "source": [
    "# create empty list\n",
    "ratings = []\n",
    "reviews = []\n",
    "\n",
    "for page in range(1, 301, 1):\n",
    "    # below url take from the above code result\n",
    "    page_url = \"https://www.amazon.in/Canon-MG2577s-Inkjet-Colour-Printer/product-reviews/B01EJ5MM5M/ref=cm_cr_arp_d_paging_btm_next_2?ie=UTF8&reviewerType=all_reviews&pageNumber=\" + str(page)\n",
    "    driver.get(page_url)\n",
    "    \n",
    "    soup= BeautifulSoup(driver.page_source, 'html.parser')\n",
    "    \n",
    "    rating_ = soup.find_all('i',attrs={'data-hook':'review-star-rating'})    \n",
    "    review_ = soup.find_all('span',attrs={'class':'a-size-base review-text review-text-content'})    \n",
    "                            \n",
    "    \n",
    "    for i in rating_:\n",
    "        ratings.append(i.text.replace(\" out of 5 stars\",\"\"))\n",
    "        \n",
    "    for k in review_:\n",
    "        reviews.append(k.text)\n",
    "\n",
    "#printing the length of lists\n",
    "print(len(ratings))\n",
    "print(len(reviews))"
   ]
  },
  {
   "cell_type": "code",
   "execution_count": 97,
   "id": "935d8eb8",
   "metadata": {},
   "outputs": [
    {
     "data": {
      "text/html": [
       "<div>\n",
       "<style scoped>\n",
       "    .dataframe tbody tr th:only-of-type {\n",
       "        vertical-align: middle;\n",
       "    }\n",
       "\n",
       "    .dataframe tbody tr th {\n",
       "        vertical-align: top;\n",
       "    }\n",
       "\n",
       "    .dataframe thead th {\n",
       "        text-align: right;\n",
       "    }\n",
       "</style>\n",
       "<table border=\"1\" class=\"dataframe\">\n",
       "  <thead>\n",
       "    <tr style=\"text-align: right;\">\n",
       "      <th></th>\n",
       "      <th>Ratings</th>\n",
       "      <th>Review</th>\n",
       "    </tr>\n",
       "  </thead>\n",
       "  <tbody>\n",
       "    <tr>\n",
       "      <th>0</th>\n",
       "      <td>1.0</td>\n",
       "      <td>\\n\\n  its only  print 3 to 4 page properly the...</td>\n",
       "    </tr>\n",
       "    <tr>\n",
       "      <th>1</th>\n",
       "      <td>1.0</td>\n",
       "      <td>\\n\\n  Printer came damaged,While installing it...</td>\n",
       "    </tr>\n",
       "    <tr>\n",
       "      <th>2</th>\n",
       "      <td>3.0</td>\n",
       "      <td>\\n\\n  It is good only for plain paper printing...</td>\n",
       "    </tr>\n",
       "    <tr>\n",
       "      <th>3</th>\n",
       "      <td>3.0</td>\n",
       "      <td>\\n\\n  Prints 500 rs notes properly but 2000 rs...</td>\n",
       "    </tr>\n",
       "    <tr>\n",
       "      <th>4</th>\n",
       "      <td>1.0</td>\n",
       "      <td>\\n\\n  Got a defective piece. Very bad packagin...</td>\n",
       "    </tr>\n",
       "    <tr>\n",
       "      <th>...</th>\n",
       "      <td>...</td>\n",
       "      <td>...</td>\n",
       "    </tr>\n",
       "    <tr>\n",
       "      <th>2995</th>\n",
       "      <td>1.0</td>\n",
       "      <td>\\n\\n  Waste\\n\\n</td>\n",
       "    </tr>\n",
       "    <tr>\n",
       "      <th>2996</th>\n",
       "      <td>5.0</td>\n",
       "      <td>\\n\\n  Excellent\\n\\n</td>\n",
       "    </tr>\n",
       "    <tr>\n",
       "      <th>2997</th>\n",
       "      <td>5.0</td>\n",
       "      <td>\\n\\n  Very good prints\\n\\n</td>\n",
       "    </tr>\n",
       "    <tr>\n",
       "      <th>2998</th>\n",
       "      <td>4.0</td>\n",
       "      <td>\\n\\n  Print cartridges are very poor\\n\\n</td>\n",
       "    </tr>\n",
       "    <tr>\n",
       "      <th>2999</th>\n",
       "      <td>3.0</td>\n",
       "      <td>\\n\\n  Not bad accordung to the price\\n\\n</td>\n",
       "    </tr>\n",
       "  </tbody>\n",
       "</table>\n",
       "<p>3000 rows × 2 columns</p>\n",
       "</div>"
      ],
      "text/plain": [
       "     Ratings                                             Review\n",
       "0        1.0  \\n\\n  its only  print 3 to 4 page properly the...\n",
       "1        1.0  \\n\\n  Printer came damaged,While installing it...\n",
       "2        3.0  \\n\\n  It is good only for plain paper printing...\n",
       "3        3.0  \\n\\n  Prints 500 rs notes properly but 2000 rs...\n",
       "4        1.0  \\n\\n  Got a defective piece. Very bad packagin...\n",
       "...      ...                                                ...\n",
       "2995     1.0                                    \\n\\n  Waste\\n\\n\n",
       "2996     5.0                                \\n\\n  Excellent\\n\\n\n",
       "2997     5.0                         \\n\\n  Very good prints\\n\\n\n",
       "2998     4.0           \\n\\n  Print cartridges are very poor\\n\\n\n",
       "2999     3.0           \\n\\n  Not bad accordung to the price\\n\\n\n",
       "\n",
       "[3000 rows x 2 columns]"
      ]
     },
     "execution_count": 97,
     "metadata": {},
     "output_type": "execute_result"
    }
   ],
   "source": [
    "# make dataframe\n",
    "df9 = pd.DataFrame({})\n",
    "df9['Ratings'] = ratings\n",
    "df9['Review'] = reviews\n",
    "df9"
   ]
  },
  {
   "cell_type": "code",
   "execution_count": 111,
   "id": "9ced1804",
   "metadata": {},
   "outputs": [],
   "source": [
    "driver.get(\"https://www.flipkart.com/zebronics-zeb-feel-4-60-w-bluetooth-home-theatre/product-reviews/itm128ec17e63fbe?pid=ACCFF6XGWJ5SXYGQ&lid=LSTACCFF6XGWJ5SXYGQUCXMJ9&marketplace=FLIPKART\")"
   ]
  },
  {
   "cell_type": "code",
   "execution_count": 112,
   "id": "3e178617",
   "metadata": {},
   "outputs": [],
   "source": [
    "# click on negative filter first\n",
    "driver.find_element_by_xpath(\"//*[@id='container']/div/div[3]/div/div[1]/div[2]/div[1]/div[1]/div[2]/div/div/div/div/select/option[4]\").click()"
   ]
  },
  {
   "cell_type": "code",
   "execution_count": 113,
   "id": "0b3d0be6",
   "metadata": {},
   "outputs": [],
   "source": [
    "driver.find_element_by_xpath(\"//nav[@class='yFHi8N']/a[2]\").click() # click on 2 page\n",
    "time.sleep(8)  # sleep code for 8 second\n",
    "\n",
    "# again click on 1 page to get url with page=1 at the end, which is extract below\n",
    "driver.find_element_by_xpath(\"//nav[@class='yFHi8N']/a[1]\").click()"
   ]
  },
  {
   "cell_type": "code",
   "execution_count": 114,
   "id": "f1deb595",
   "metadata": {},
   "outputs": [
    {
     "data": {
      "text/plain": [
       "'https://www.flipkart.com/zebronics-zeb-feel-4-60-w-bluetooth-home-theatre/product-reviews/itm128ec17e63fbe?pid=ACCFF6XGWJ5SXYGQ&lid=LSTACCFF6XGWJ5SXYGQUCXMJ9&aid=overall&certifiedBuyer=false&sortOrder=NEGATIVE_FIRST&page=1'"
      ]
     },
     "execution_count": 114,
     "metadata": {},
     "output_type": "execute_result"
    }
   ],
   "source": [
    "driver.current_url"
   ]
  },
  {
   "cell_type": "code",
   "execution_count": 115,
   "id": "4fad4c8b",
   "metadata": {},
   "outputs": [
    {
     "name": "stdout",
     "output_type": "stream",
     "text": [
      "1367\n",
      "1367\n"
     ]
    }
   ],
   "source": [
    "# create empty list\n",
    "ratings = []\n",
    "reviews = []\n",
    "\n",
    "for page in range(1, 151, 1):\n",
    "    # below url take from the above code result\n",
    "    page_url = \"https://www.flipkart.com/zebronics-zeb-feel-4-60-w-bluetooth-home-theatre/product-reviews/itm128ec17e63fbe?pid=ACCFF6XGWJ5SXYGQ&lid=LSTACCFF6XGWJ5SXYGQUCXMJ9&aid=overall&certifiedBuyer=false&sortOrder=NEGATIVE_FIRST&page=\" + str(page)\n",
    "    driver.get(page_url)\n",
    "    rating_ = driver.find_elements_by_xpath(\"//div[@class='col _2wzgFH K0kLPL']/div[1]/div[1]\")\n",
    "    review_ = driver.find_elements_by_xpath(\"//*[@id='container']/div/div[3]/div/div[1]/div[2]/div/div/div/div/div[2]/div/div/div\")\n",
    "                                             \n",
    "    for i in rating_:\n",
    "        ratings.append(i.text)\n",
    "    for k in review_:\n",
    "        reviews.append(k.text)\n",
    "\n",
    "#printing the length of lists\n",
    "print(len(ratings))\n",
    "print(len(reviews))"
   ]
  },
  {
   "cell_type": "code",
   "execution_count": 116,
   "id": "0d7bc32d",
   "metadata": {},
   "outputs": [
    {
     "data": {
      "text/html": [
       "<div>\n",
       "<style scoped>\n",
       "    .dataframe tbody tr th:only-of-type {\n",
       "        vertical-align: middle;\n",
       "    }\n",
       "\n",
       "    .dataframe tbody tr th {\n",
       "        vertical-align: top;\n",
       "    }\n",
       "\n",
       "    .dataframe thead th {\n",
       "        text-align: right;\n",
       "    }\n",
       "</style>\n",
       "<table border=\"1\" class=\"dataframe\">\n",
       "  <thead>\n",
       "    <tr style=\"text-align: right;\">\n",
       "      <th></th>\n",
       "      <th>Ratings</th>\n",
       "      <th>Review</th>\n",
       "    </tr>\n",
       "  </thead>\n",
       "  <tbody>\n",
       "    <tr>\n",
       "      <th>0</th>\n",
       "      <td>1</td>\n",
       "      <td>Remote control not working properly</td>\n",
       "    </tr>\n",
       "    <tr>\n",
       "      <th>1</th>\n",
       "      <td>1</td>\n",
       "      <td>low sound don't buy west money not return this...</td>\n",
       "    </tr>\n",
       "    <tr>\n",
       "      <th>2</th>\n",
       "      <td>1</td>\n",
       "      <td>not working properly</td>\n",
       "    </tr>\n",
       "    <tr>\n",
       "      <th>3</th>\n",
       "      <td>1</td>\n",
       "      <td>Worst product..... Stop working in just 3 mont...</td>\n",
       "    </tr>\n",
       "    <tr>\n",
       "      <th>4</th>\n",
       "      <td>1</td>\n",
       "      <td>bass is not available after 1 month . bad product</td>\n",
       "    </tr>\n",
       "    <tr>\n",
       "      <th>...</th>\n",
       "      <td>...</td>\n",
       "      <td>...</td>\n",
       "    </tr>\n",
       "    <tr>\n",
       "      <th>1362</th>\n",
       "      <td>4</td>\n",
       "      <td>Volume is not large but quality is best better...</td>\n",
       "    </tr>\n",
       "    <tr>\n",
       "      <th>1363</th>\n",
       "      <td>4</td>\n",
       "      <td>thank you</td>\n",
       "    </tr>\n",
       "    <tr>\n",
       "      <th>1364</th>\n",
       "      <td>4</td>\n",
       "      <td>Better at this price</td>\n",
       "    </tr>\n",
       "    <tr>\n",
       "      <th>1365</th>\n",
       "      <td>4</td>\n",
       "      <td>Nice product</td>\n",
       "    </tr>\n",
       "    <tr>\n",
       "      <th>1366</th>\n",
       "      <td>4</td>\n",
       "      <td>Awosome device but sound is little low but awo...</td>\n",
       "    </tr>\n",
       "  </tbody>\n",
       "</table>\n",
       "<p>1367 rows × 2 columns</p>\n",
       "</div>"
      ],
      "text/plain": [
       "     Ratings                                             Review\n",
       "0          1                Remote control not working properly\n",
       "1          1  low sound don't buy west money not return this...\n",
       "2          1                               not working properly\n",
       "3          1  Worst product..... Stop working in just 3 mont...\n",
       "4          1  bass is not available after 1 month . bad product\n",
       "...      ...                                                ...\n",
       "1362       4  Volume is not large but quality is best better...\n",
       "1363       4                                          thank you\n",
       "1364       4                               Better at this price\n",
       "1365       4                                       Nice product\n",
       "1366       4  Awosome device but sound is little low but awo...\n",
       "\n",
       "[1367 rows x 2 columns]"
      ]
     },
     "execution_count": 116,
     "metadata": {},
     "output_type": "execute_result"
    }
   ],
   "source": [
    "# make dataframe\n",
    "df10 = pd.DataFrame({})\n",
    "df10['Ratings'] = ratings\n",
    "df10['Review'] = reviews\n",
    "df10"
   ]
  },
  {
   "cell_type": "code",
   "execution_count": 117,
   "id": "9995ff3a",
   "metadata": {},
   "outputs": [
    {
     "data": {
      "text/html": [
       "<div>\n",
       "<style scoped>\n",
       "    .dataframe tbody tr th:only-of-type {\n",
       "        vertical-align: middle;\n",
       "    }\n",
       "\n",
       "    .dataframe tbody tr th {\n",
       "        vertical-align: top;\n",
       "    }\n",
       "\n",
       "    .dataframe thead th {\n",
       "        text-align: right;\n",
       "    }\n",
       "</style>\n",
       "<table border=\"1\" class=\"dataframe\">\n",
       "  <thead>\n",
       "    <tr style=\"text-align: right;\">\n",
       "      <th></th>\n",
       "      <th>Ratings</th>\n",
       "      <th>Review</th>\n",
       "    </tr>\n",
       "  </thead>\n",
       "  <tbody>\n",
       "    <tr>\n",
       "      <th>0</th>\n",
       "      <td>5</td>\n",
       "      <td>This is the best laptop in this range.I reciev...</td>\n",
       "    </tr>\n",
       "    <tr>\n",
       "      <th>1</th>\n",
       "      <td>5</td>\n",
       "      <td>Good product as used of now.... Everything is ...</td>\n",
       "    </tr>\n",
       "    <tr>\n",
       "      <th>2</th>\n",
       "      <td>5</td>\n",
       "      <td>AWESOME LAPTOP. It supports many high spec gam...</td>\n",
       "    </tr>\n",
       "    <tr>\n",
       "      <th>3</th>\n",
       "      <td>4</td>\n",
       "      <td>For that price... it's exceptionally good. Pla...</td>\n",
       "    </tr>\n",
       "    <tr>\n",
       "      <th>4</th>\n",
       "      <td>4</td>\n",
       "      <td>RAM upgrade is must do because the useable RAM...</td>\n",
       "    </tr>\n",
       "    <tr>\n",
       "      <th>...</th>\n",
       "      <td>...</td>\n",
       "      <td>...</td>\n",
       "    </tr>\n",
       "    <tr>\n",
       "      <th>23878</th>\n",
       "      <td>4</td>\n",
       "      <td>Volume is not large but quality is best better...</td>\n",
       "    </tr>\n",
       "    <tr>\n",
       "      <th>23879</th>\n",
       "      <td>4</td>\n",
       "      <td>thank you</td>\n",
       "    </tr>\n",
       "    <tr>\n",
       "      <th>23880</th>\n",
       "      <td>4</td>\n",
       "      <td>Better at this price</td>\n",
       "    </tr>\n",
       "    <tr>\n",
       "      <th>23881</th>\n",
       "      <td>4</td>\n",
       "      <td>Nice product</td>\n",
       "    </tr>\n",
       "    <tr>\n",
       "      <th>23882</th>\n",
       "      <td>4</td>\n",
       "      <td>Awosome device but sound is little low but awo...</td>\n",
       "    </tr>\n",
       "  </tbody>\n",
       "</table>\n",
       "<p>23883 rows × 2 columns</p>\n",
       "</div>"
      ],
      "text/plain": [
       "      Ratings                                             Review\n",
       "0           5  This is the best laptop in this range.I reciev...\n",
       "1           5  Good product as used of now.... Everything is ...\n",
       "2           5  AWESOME LAPTOP. It supports many high spec gam...\n",
       "3           4  For that price... it's exceptionally good. Pla...\n",
       "4           4  RAM upgrade is must do because the useable RAM...\n",
       "...       ...                                                ...\n",
       "23878       4  Volume is not large but quality is best better...\n",
       "23879       4                                          thank you\n",
       "23880       4                               Better at this price\n",
       "23881       4                                       Nice product\n",
       "23882       4  Awosome device but sound is little low but awo...\n",
       "\n",
       "[23883 rows x 2 columns]"
      ]
     },
     "execution_count": 117,
     "metadata": {},
     "output_type": "execute_result"
    }
   ],
   "source": [
    "# merge all dataframes reviews and ratings\n",
    "df = pd.concat([df1,df2,df3,df4,df5,df6,df7,df8,df9,df10], ignore_index=True)\n",
    "df"
   ]
  },
  {
   "cell_type": "code",
   "execution_count": 118,
   "id": "8e2b0d8e",
   "metadata": {},
   "outputs": [],
   "source": [
    "# save data in excel format\n",
    "df.to_excel(\"rating_data.xlsx\")"
   ]
  },
  {
   "cell_type": "code",
   "execution_count": 119,
   "id": "5fa02d0f",
   "metadata": {},
   "outputs": [],
   "source": [
    "#Save data in csv format\n",
    "df.to_csv(\"rating_prediction.csv\")"
   ]
  },
  {
   "cell_type": "code",
   "execution_count": null,
   "id": "4eb01075",
   "metadata": {},
   "outputs": [],
   "source": []
  }
 ],
 "metadata": {
  "kernelspec": {
   "display_name": "Python 3",
   "language": "python",
   "name": "python3"
  },
  "language_info": {
   "codemirror_mode": {
    "name": "ipython",
    "version": 3
   },
   "file_extension": ".py",
   "mimetype": "text/x-python",
   "name": "python",
   "nbconvert_exporter": "python",
   "pygments_lexer": "ipython3",
   "version": "3.8.8"
  }
 },
 "nbformat": 4,
 "nbformat_minor": 5
}
